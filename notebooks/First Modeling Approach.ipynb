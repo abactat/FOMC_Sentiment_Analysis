{
 "cells": [
  {
   "cell_type": "code",
   "execution_count": 1,
   "id": "9ae01bdf",
   "metadata": {},
   "outputs": [],
   "source": [
    "import pandas as pd\n",
    "import numpy as np\n",
    "import statsmodels.api as sm\n",
    "import scipy.stats as stats\n",
    "from sklearn.linear_model import LogisticRegression\n",
    "from sklearn.linear_model import Ridge\n",
    "from sklearn.metrics import mean_squared_error\n",
    "from sklearn import svm\n",
    "from keras.models import Sequential\n",
    "from keras.layers import LSTM, Dense\n",
    "from sklearn.model_selection import train_test_split\n",
    "from sklearn.preprocessing import MinMaxScaler\n",
    "from tensorflow.keras.layers import LSTM, Dense\n",
    "from tensorflow.keras.models import Sequential\n",
    "from sklearn.preprocessing import StandardScaler\n",
    "import matplotlib.pyplot as plt\n",
    "import statsmodels.graphics.regressionplots as smg\n",
    "from sklearn.metrics import mean_squared_error, r2_score\n",
    "from sklearn.linear_model import RidgeCV"
   ]
  },
  {
   "cell_type": "markdown",
   "id": "04c4a754",
   "metadata": {},
   "source": [
    "###Import training and validation data"
   ]
  },
  {
   "cell_type": "code",
   "execution_count": 2,
   "id": "5191832c",
   "metadata": {},
   "outputs": [
    {
     "name": "stdout",
     "output_type": "stream",
     "text": [
      "     Increase  Decrease  Level      CPI  Unemployment Rate  Retail Sales  \\\n",
      "0        0.00       0.5   3.75  144.200                7.1      160605.0   \n",
      "1        0.00       0.0   3.25  144.500                6.9      162816.0   \n",
      "2        0.00       0.0   3.25  144.800                6.8      162506.0   \n",
      "3        0.00       0.0   3.25  145.000                6.7      163258.0   \n",
      "4        0.00       0.0   3.25  146.000                6.6      166594.0   \n",
      "..        ...       ...    ...      ...                ...           ...   \n",
      "186      0.00       0.0   0.50  241.176                5.0      406064.0   \n",
      "187      0.25       0.0   0.50  241.741                4.9      407120.0   \n",
      "188      0.00       0.0   0.75  242.637                4.7      412576.0   \n",
      "189      0.25       0.0   0.75  243.618                4.7      415749.0   \n",
      "190      0.00       0.0   1.00  243.892                4.4      414836.0   \n",
      "\n",
      "     Durable Goods Orders  Short-Term Treasury Bond Rate  \\\n",
      "0                126529.0                           2.93   \n",
      "1                128111.0                           2.95   \n",
      "2                129378.0                           3.01   \n",
      "3                127233.0                           2.95   \n",
      "4                130391.0                           2.95   \n",
      "..                    ...                            ...   \n",
      "186              216736.0                           0.29   \n",
      "187              233161.0                           0.29   \n",
      "188              219506.0                           0.53   \n",
      "189              218959.0                           0.51   \n",
      "190              222381.0                           0.73   \n",
      "\n",
      "     Long-Term Treasury Bond Rate  Bank Reserves  ...  uncertainty  unclear  \\\n",
      "0                            6.04          5.646  ...           -7        0   \n",
      "1                            5.81         16.256  ...           -4        0   \n",
      "2                            5.68          5.661  ...           -1        0   \n",
      "3                            5.36          5.117  ...           -4       -1   \n",
      "4                            5.72          5.059  ...           -5        0   \n",
      "..                            ...            ...  ...          ...      ...   \n",
      "186                          1.63        243.082  ...           -4        0   \n",
      "187                          1.76        429.027  ...           -5        0   \n",
      "188                          2.49        343.355  ...          -13        0   \n",
      "189                          2.43        390.842  ...           -7        0   \n",
      "190                          2.48         88.220  ...          -13        0   \n",
      "\n",
      "     unexpected  unknown  upturn  vary  volatile  volatility  Difference  \\\n",
      "0             0        0       2     0         0           0        0.00   \n",
      "1             0        0       2     0         0           0       -0.50   \n",
      "2             0        0       0     0         0           0        0.00   \n",
      "3            -2        0       0    -1        -1           0        0.00   \n",
      "4             0        0       0     0        -1           0        0.00   \n",
      "..          ...      ...     ...   ...       ...         ...         ...   \n",
      "186           0        0       0     0        -1          -7        0.00   \n",
      "187           0        0       0     0         0          -4        0.00   \n",
      "188           0        0       0     0         0          -1        0.25   \n",
      "189           0        0       0     0        -1          -2        0.00   \n",
      "190           0        0       0     0         0          -4        0.25   \n",
      "\n",
      "           Date  \n",
      "0    1993-05-18  \n",
      "1    1993-07-07  \n",
      "2    1993-08-17  \n",
      "3    1993-09-21  \n",
      "4    1993-11-16  \n",
      "..          ...  \n",
      "186  2016-09-21  \n",
      "187  2016-11-02  \n",
      "188  2016-12-14  \n",
      "189  2017-02-01  \n",
      "190  2017-03-15  \n",
      "\n",
      "[191 rows x 98 columns]\n"
     ]
    }
   ],
   "source": [
    "train = pd.read_csv(r'C:\\Users\\abact\\BC-Project\\data\\train_data.csv')\n",
    "valid = pd.read_csv(r'C:\\Users\\abact\\BC-Project\\data\\val_data.csv')\n",
    "test = pd.read_csv(r'C:\\Users\\abact\\BC-Project\\data\\test_data.csv')\n",
    "print(train)"
   ]
  },
  {
   "cell_type": "markdown",
   "id": "29314a11",
   "metadata": {},
   "source": [
    "###Start with basic linear models"
   ]
  },
  {
   "cell_type": "markdown",
   "id": "45c44397",
   "metadata": {},
   "source": [
    "###Best Variable Selection"
   ]
  },
  {
   "cell_type": "code",
   "execution_count": 3,
   "id": "41268b55",
   "metadata": {},
   "outputs": [
    {
     "name": "stderr",
     "output_type": "stream",
     "text": [
      "C:\\Users\\abact\\AppData\\Local\\Temp\\ipykernel_14712\\2593679913.py:20: FutureWarning: The frame.append method is deprecated and will be removed from pandas in a future version. Use pandas.concat instead.\n",
      "  variable_selection_results = variable_selection_results.append({\n",
      "C:\\Users\\abact\\AppData\\Local\\Temp\\ipykernel_14712\\2593679913.py:20: FutureWarning: The frame.append method is deprecated and will be removed from pandas in a future version. Use pandas.concat instead.\n",
      "  variable_selection_results = variable_selection_results.append({\n",
      "C:\\Users\\abact\\AppData\\Local\\Temp\\ipykernel_14712\\2593679913.py:20: FutureWarning: The frame.append method is deprecated and will be removed from pandas in a future version. Use pandas.concat instead.\n",
      "  variable_selection_results = variable_selection_results.append({\n",
      "C:\\Users\\abact\\AppData\\Local\\Temp\\ipykernel_14712\\2593679913.py:20: FutureWarning: The frame.append method is deprecated and will be removed from pandas in a future version. Use pandas.concat instead.\n",
      "  variable_selection_results = variable_selection_results.append({\n",
      "C:\\Users\\abact\\AppData\\Local\\Temp\\ipykernel_14712\\2593679913.py:20: FutureWarning: The frame.append method is deprecated and will be removed from pandas in a future version. Use pandas.concat instead.\n",
      "  variable_selection_results = variable_selection_results.append({\n",
      "C:\\Users\\abact\\AppData\\Local\\Temp\\ipykernel_14712\\2593679913.py:20: FutureWarning: The frame.append method is deprecated and will be removed from pandas in a future version. Use pandas.concat instead.\n",
      "  variable_selection_results = variable_selection_results.append({\n",
      "C:\\Users\\abact\\AppData\\Local\\Temp\\ipykernel_14712\\2593679913.py:20: FutureWarning: The frame.append method is deprecated and will be removed from pandas in a future version. Use pandas.concat instead.\n",
      "  variable_selection_results = variable_selection_results.append({\n",
      "C:\\Users\\abact\\AppData\\Local\\Temp\\ipykernel_14712\\2593679913.py:20: FutureWarning: The frame.append method is deprecated and will be removed from pandas in a future version. Use pandas.concat instead.\n",
      "  variable_selection_results = variable_selection_results.append({\n",
      "C:\\Users\\abact\\AppData\\Local\\Temp\\ipykernel_14712\\2593679913.py:20: FutureWarning: The frame.append method is deprecated and will be removed from pandas in a future version. Use pandas.concat instead.\n",
      "  variable_selection_results = variable_selection_results.append({\n",
      "C:\\Users\\abact\\AppData\\Local\\Temp\\ipykernel_14712\\2593679913.py:20: FutureWarning: The frame.append method is deprecated and will be removed from pandas in a future version. Use pandas.concat instead.\n",
      "  variable_selection_results = variable_selection_results.append({\n",
      "C:\\Users\\abact\\AppData\\Local\\Temp\\ipykernel_14712\\2593679913.py:20: FutureWarning: The frame.append method is deprecated and will be removed from pandas in a future version. Use pandas.concat instead.\n",
      "  variable_selection_results = variable_selection_results.append({\n",
      "C:\\Users\\abact\\AppData\\Local\\Temp\\ipykernel_14712\\2593679913.py:20: FutureWarning: The frame.append method is deprecated and will be removed from pandas in a future version. Use pandas.concat instead.\n",
      "  variable_selection_results = variable_selection_results.append({\n",
      "C:\\Users\\abact\\AppData\\Local\\Temp\\ipykernel_14712\\2593679913.py:20: FutureWarning: The frame.append method is deprecated and will be removed from pandas in a future version. Use pandas.concat instead.\n",
      "  variable_selection_results = variable_selection_results.append({\n",
      "C:\\Users\\abact\\AppData\\Local\\Temp\\ipykernel_14712\\2593679913.py:20: FutureWarning: The frame.append method is deprecated and will be removed from pandas in a future version. Use pandas.concat instead.\n",
      "  variable_selection_results = variable_selection_results.append({\n",
      "C:\\Users\\abact\\AppData\\Local\\Temp\\ipykernel_14712\\2593679913.py:20: FutureWarning: The frame.append method is deprecated and will be removed from pandas in a future version. Use pandas.concat instead.\n",
      "  variable_selection_results = variable_selection_results.append({\n",
      "C:\\Users\\abact\\AppData\\Local\\Temp\\ipykernel_14712\\2593679913.py:20: FutureWarning: The frame.append method is deprecated and will be removed from pandas in a future version. Use pandas.concat instead.\n",
      "  variable_selection_results = variable_selection_results.append({\n",
      "C:\\Users\\abact\\AppData\\Local\\Temp\\ipykernel_14712\\2593679913.py:20: FutureWarning: The frame.append method is deprecated and will be removed from pandas in a future version. Use pandas.concat instead.\n",
      "  variable_selection_results = variable_selection_results.append({\n",
      "C:\\Users\\abact\\AppData\\Local\\Temp\\ipykernel_14712\\2593679913.py:20: FutureWarning: The frame.append method is deprecated and will be removed from pandas in a future version. Use pandas.concat instead.\n",
      "  variable_selection_results = variable_selection_results.append({\n",
      "C:\\Users\\abact\\AppData\\Local\\Temp\\ipykernel_14712\\2593679913.py:20: FutureWarning: The frame.append method is deprecated and will be removed from pandas in a future version. Use pandas.concat instead.\n",
      "  variable_selection_results = variable_selection_results.append({\n",
      "C:\\Users\\abact\\AppData\\Local\\Temp\\ipykernel_14712\\2593679913.py:20: FutureWarning: The frame.append method is deprecated and will be removed from pandas in a future version. Use pandas.concat instead.\n",
      "  variable_selection_results = variable_selection_results.append({\n",
      "C:\\Users\\abact\\AppData\\Local\\Temp\\ipykernel_14712\\2593679913.py:20: FutureWarning: The frame.append method is deprecated and will be removed from pandas in a future version. Use pandas.concat instead.\n",
      "  variable_selection_results = variable_selection_results.append({\n",
      "C:\\Users\\abact\\AppData\\Local\\Temp\\ipykernel_14712\\2593679913.py:20: FutureWarning: The frame.append method is deprecated and will be removed from pandas in a future version. Use pandas.concat instead.\n",
      "  variable_selection_results = variable_selection_results.append({\n",
      "C:\\Users\\abact\\AppData\\Local\\Temp\\ipykernel_14712\\2593679913.py:20: FutureWarning: The frame.append method is deprecated and will be removed from pandas in a future version. Use pandas.concat instead.\n",
      "  variable_selection_results = variable_selection_results.append({\n",
      "C:\\Users\\abact\\AppData\\Local\\Temp\\ipykernel_14712\\2593679913.py:20: FutureWarning: The frame.append method is deprecated and will be removed from pandas in a future version. Use pandas.concat instead.\n",
      "  variable_selection_results = variable_selection_results.append({\n",
      "C:\\Users\\abact\\AppData\\Local\\Temp\\ipykernel_14712\\2593679913.py:20: FutureWarning: The frame.append method is deprecated and will be removed from pandas in a future version. Use pandas.concat instead.\n",
      "  variable_selection_results = variable_selection_results.append({\n",
      "C:\\Users\\abact\\AppData\\Local\\Temp\\ipykernel_14712\\2593679913.py:20: FutureWarning: The frame.append method is deprecated and will be removed from pandas in a future version. Use pandas.concat instead.\n",
      "  variable_selection_results = variable_selection_results.append({\n",
      "C:\\Users\\abact\\AppData\\Local\\Temp\\ipykernel_14712\\2593679913.py:20: FutureWarning: The frame.append method is deprecated and will be removed from pandas in a future version. Use pandas.concat instead.\n",
      "  variable_selection_results = variable_selection_results.append({\n",
      "C:\\Users\\abact\\AppData\\Local\\Temp\\ipykernel_14712\\2593679913.py:20: FutureWarning: The frame.append method is deprecated and will be removed from pandas in a future version. Use pandas.concat instead.\n",
      "  variable_selection_results = variable_selection_results.append({\n",
      "C:\\Users\\abact\\AppData\\Local\\Temp\\ipykernel_14712\\2593679913.py:20: FutureWarning: The frame.append method is deprecated and will be removed from pandas in a future version. Use pandas.concat instead.\n",
      "  variable_selection_results = variable_selection_results.append({\n",
      "C:\\Users\\abact\\AppData\\Local\\Temp\\ipykernel_14712\\2593679913.py:20: FutureWarning: The frame.append method is deprecated and will be removed from pandas in a future version. Use pandas.concat instead.\n",
      "  variable_selection_results = variable_selection_results.append({\n",
      "C:\\Users\\abact\\AppData\\Local\\Temp\\ipykernel_14712\\2593679913.py:20: FutureWarning: The frame.append method is deprecated and will be removed from pandas in a future version. Use pandas.concat instead.\n",
      "  variable_selection_results = variable_selection_results.append({\n",
      "C:\\Users\\abact\\AppData\\Local\\Temp\\ipykernel_14712\\2593679913.py:20: FutureWarning: The frame.append method is deprecated and will be removed from pandas in a future version. Use pandas.concat instead.\n",
      "  variable_selection_results = variable_selection_results.append({\n",
      "C:\\Users\\abact\\AppData\\Local\\Temp\\ipykernel_14712\\2593679913.py:20: FutureWarning: The frame.append method is deprecated and will be removed from pandas in a future version. Use pandas.concat instead.\n",
      "  variable_selection_results = variable_selection_results.append({\n",
      "C:\\Users\\abact\\AppData\\Local\\Temp\\ipykernel_14712\\2593679913.py:20: FutureWarning: The frame.append method is deprecated and will be removed from pandas in a future version. Use pandas.concat instead.\n",
      "  variable_selection_results = variable_selection_results.append({\n",
      "C:\\Users\\abact\\AppData\\Local\\Temp\\ipykernel_14712\\2593679913.py:20: FutureWarning: The frame.append method is deprecated and will be removed from pandas in a future version. Use pandas.concat instead.\n",
      "  variable_selection_results = variable_selection_results.append({\n",
      "C:\\Users\\abact\\AppData\\Local\\Temp\\ipykernel_14712\\2593679913.py:20: FutureWarning: The frame.append method is deprecated and will be removed from pandas in a future version. Use pandas.concat instead.\n",
      "  variable_selection_results = variable_selection_results.append({\n",
      "C:\\Users\\abact\\AppData\\Local\\Temp\\ipykernel_14712\\2593679913.py:20: FutureWarning: The frame.append method is deprecated and will be removed from pandas in a future version. Use pandas.concat instead.\n",
      "  variable_selection_results = variable_selection_results.append({\n",
      "C:\\Users\\abact\\AppData\\Local\\Temp\\ipykernel_14712\\2593679913.py:20: FutureWarning: The frame.append method is deprecated and will be removed from pandas in a future version. Use pandas.concat instead.\n",
      "  variable_selection_results = variable_selection_results.append({\n",
      "C:\\Users\\abact\\AppData\\Local\\Temp\\ipykernel_14712\\2593679913.py:20: FutureWarning: The frame.append method is deprecated and will be removed from pandas in a future version. Use pandas.concat instead.\n",
      "  variable_selection_results = variable_selection_results.append({\n",
      "C:\\Users\\abact\\AppData\\Local\\Temp\\ipykernel_14712\\2593679913.py:20: FutureWarning: The frame.append method is deprecated and will be removed from pandas in a future version. Use pandas.concat instead.\n",
      "  variable_selection_results = variable_selection_results.append({\n",
      "C:\\Users\\abact\\AppData\\Local\\Temp\\ipykernel_14712\\2593679913.py:20: FutureWarning: The frame.append method is deprecated and will be removed from pandas in a future version. Use pandas.concat instead.\n",
      "  variable_selection_results = variable_selection_results.append({\n",
      "C:\\Users\\abact\\AppData\\Local\\Temp\\ipykernel_14712\\2593679913.py:20: FutureWarning: The frame.append method is deprecated and will be removed from pandas in a future version. Use pandas.concat instead.\n",
      "  variable_selection_results = variable_selection_results.append({\n",
      "C:\\Users\\abact\\AppData\\Local\\Temp\\ipykernel_14712\\2593679913.py:20: FutureWarning: The frame.append method is deprecated and will be removed from pandas in a future version. Use pandas.concat instead.\n",
      "  variable_selection_results = variable_selection_results.append({\n",
      "C:\\Users\\abact\\AppData\\Local\\Temp\\ipykernel_14712\\2593679913.py:20: FutureWarning: The frame.append method is deprecated and will be removed from pandas in a future version. Use pandas.concat instead.\n",
      "  variable_selection_results = variable_selection_results.append({\n",
      "C:\\Users\\abact\\AppData\\Local\\Temp\\ipykernel_14712\\2593679913.py:20: FutureWarning: The frame.append method is deprecated and will be removed from pandas in a future version. Use pandas.concat instead.\n",
      "  variable_selection_results = variable_selection_results.append({\n",
      "C:\\Users\\abact\\AppData\\Local\\Temp\\ipykernel_14712\\2593679913.py:20: FutureWarning: The frame.append method is deprecated and will be removed from pandas in a future version. Use pandas.concat instead.\n",
      "  variable_selection_results = variable_selection_results.append({\n",
      "C:\\Users\\abact\\AppData\\Local\\Temp\\ipykernel_14712\\2593679913.py:20: FutureWarning: The frame.append method is deprecated and will be removed from pandas in a future version. Use pandas.concat instead.\n",
      "  variable_selection_results = variable_selection_results.append({\n",
      "C:\\Users\\abact\\AppData\\Local\\Temp\\ipykernel_14712\\2593679913.py:20: FutureWarning: The frame.append method is deprecated and will be removed from pandas in a future version. Use pandas.concat instead.\n",
      "  variable_selection_results = variable_selection_results.append({\n",
      "C:\\Users\\abact\\AppData\\Local\\Temp\\ipykernel_14712\\2593679913.py:20: FutureWarning: The frame.append method is deprecated and will be removed from pandas in a future version. Use pandas.concat instead.\n",
      "  variable_selection_results = variable_selection_results.append({\n",
      "C:\\Users\\abact\\AppData\\Local\\Temp\\ipykernel_14712\\2593679913.py:20: FutureWarning: The frame.append method is deprecated and will be removed from pandas in a future version. Use pandas.concat instead.\n",
      "  variable_selection_results = variable_selection_results.append({\n",
      "C:\\Users\\abact\\AppData\\Local\\Temp\\ipykernel_14712\\2593679913.py:20: FutureWarning: The frame.append method is deprecated and will be removed from pandas in a future version. Use pandas.concat instead.\n",
      "  variable_selection_results = variable_selection_results.append({\n",
      "C:\\Users\\abact\\AppData\\Local\\Temp\\ipykernel_14712\\2593679913.py:20: FutureWarning: The frame.append method is deprecated and will be removed from pandas in a future version. Use pandas.concat instead.\n",
      "  variable_selection_results = variable_selection_results.append({\n",
      "C:\\Users\\abact\\AppData\\Local\\Temp\\ipykernel_14712\\2593679913.py:20: FutureWarning: The frame.append method is deprecated and will be removed from pandas in a future version. Use pandas.concat instead.\n",
      "  variable_selection_results = variable_selection_results.append({\n",
      "C:\\Users\\abact\\AppData\\Local\\Temp\\ipykernel_14712\\2593679913.py:20: FutureWarning: The frame.append method is deprecated and will be removed from pandas in a future version. Use pandas.concat instead.\n",
      "  variable_selection_results = variable_selection_results.append({\n",
      "C:\\Users\\abact\\AppData\\Local\\Temp\\ipykernel_14712\\2593679913.py:20: FutureWarning: The frame.append method is deprecated and will be removed from pandas in a future version. Use pandas.concat instead.\n",
      "  variable_selection_results = variable_selection_results.append({\n",
      "C:\\Users\\abact\\AppData\\Local\\Temp\\ipykernel_14712\\2593679913.py:20: FutureWarning: The frame.append method is deprecated and will be removed from pandas in a future version. Use pandas.concat instead.\n",
      "  variable_selection_results = variable_selection_results.append({\n",
      "C:\\Users\\abact\\AppData\\Local\\Temp\\ipykernel_14712\\2593679913.py:20: FutureWarning: The frame.append method is deprecated and will be removed from pandas in a future version. Use pandas.concat instead.\n",
      "  variable_selection_results = variable_selection_results.append({\n",
      "C:\\Users\\abact\\AppData\\Local\\Temp\\ipykernel_14712\\2593679913.py:20: FutureWarning: The frame.append method is deprecated and will be removed from pandas in a future version. Use pandas.concat instead.\n",
      "  variable_selection_results = variable_selection_results.append({\n",
      "C:\\Users\\abact\\AppData\\Local\\Temp\\ipykernel_14712\\2593679913.py:20: FutureWarning: The frame.append method is deprecated and will be removed from pandas in a future version. Use pandas.concat instead.\n",
      "  variable_selection_results = variable_selection_results.append({\n",
      "C:\\Users\\abact\\AppData\\Local\\Temp\\ipykernel_14712\\2593679913.py:20: FutureWarning: The frame.append method is deprecated and will be removed from pandas in a future version. Use pandas.concat instead.\n",
      "  variable_selection_results = variable_selection_results.append({\n",
      "C:\\Users\\abact\\AppData\\Local\\Temp\\ipykernel_14712\\2593679913.py:20: FutureWarning: The frame.append method is deprecated and will be removed from pandas in a future version. Use pandas.concat instead.\n",
      "  variable_selection_results = variable_selection_results.append({\n",
      "C:\\Users\\abact\\AppData\\Local\\Temp\\ipykernel_14712\\2593679913.py:20: FutureWarning: The frame.append method is deprecated and will be removed from pandas in a future version. Use pandas.concat instead.\n",
      "  variable_selection_results = variable_selection_results.append({\n",
      "C:\\Users\\abact\\AppData\\Local\\Temp\\ipykernel_14712\\2593679913.py:20: FutureWarning: The frame.append method is deprecated and will be removed from pandas in a future version. Use pandas.concat instead.\n",
      "  variable_selection_results = variable_selection_results.append({\n",
      "C:\\Users\\abact\\AppData\\Local\\Temp\\ipykernel_14712\\2593679913.py:20: FutureWarning: The frame.append method is deprecated and will be removed from pandas in a future version. Use pandas.concat instead.\n",
      "  variable_selection_results = variable_selection_results.append({\n",
      "C:\\Users\\abact\\AppData\\Local\\Temp\\ipykernel_14712\\2593679913.py:20: FutureWarning: The frame.append method is deprecated and will be removed from pandas in a future version. Use pandas.concat instead.\n",
      "  variable_selection_results = variable_selection_results.append({\n",
      "C:\\Users\\abact\\AppData\\Local\\Temp\\ipykernel_14712\\2593679913.py:20: FutureWarning: The frame.append method is deprecated and will be removed from pandas in a future version. Use pandas.concat instead.\n",
      "  variable_selection_results = variable_selection_results.append({\n",
      "C:\\Users\\abact\\AppData\\Local\\Temp\\ipykernel_14712\\2593679913.py:20: FutureWarning: The frame.append method is deprecated and will be removed from pandas in a future version. Use pandas.concat instead.\n",
      "  variable_selection_results = variable_selection_results.append({\n"
     ]
    },
    {
     "name": "stdout",
     "output_type": "stream",
     "text": [
      "                            Variable t-statistic   p-value\n",
      "3                                CPI   87.047291       0.0\n",
      "25  Durable Goods Orders_RollingMean    86.84105       0.0\n",
      "6               Durable Goods Orders   86.048734       0.0\n",
      "14           Average Hourly Earnings   68.095082       0.0\n",
      "5                       Retail Sales   55.912999       0.0\n",
      "..                               ...         ...       ...\n",
      "10                               LEI   -0.362377  0.717272\n",
      "35                            attain    0.253871  0.799733\n",
      "85                        surpassing   -0.089933  0.928388\n",
      "86                        tremendous   -0.089933  0.928388\n",
      "96                      Date_numeric          --        --\n",
      "\n",
      "[97 rows x 3 columns]\n"
     ]
    },
    {
     "name": "stderr",
     "output_type": "stream",
     "text": [
      "C:\\Users\\abact\\AppData\\Local\\Temp\\ipykernel_14712\\2593679913.py:20: FutureWarning: The frame.append method is deprecated and will be removed from pandas in a future version. Use pandas.concat instead.\n",
      "  variable_selection_results = variable_selection_results.append({\n",
      "C:\\Users\\abact\\AppData\\Local\\Temp\\ipykernel_14712\\2593679913.py:20: FutureWarning: The frame.append method is deprecated and will be removed from pandas in a future version. Use pandas.concat instead.\n",
      "  variable_selection_results = variable_selection_results.append({\n",
      "C:\\Users\\abact\\AppData\\Local\\Temp\\ipykernel_14712\\2593679913.py:20: FutureWarning: The frame.append method is deprecated and will be removed from pandas in a future version. Use pandas.concat instead.\n",
      "  variable_selection_results = variable_selection_results.append({\n",
      "C:\\Users\\abact\\AppData\\Local\\Temp\\ipykernel_14712\\2593679913.py:20: FutureWarning: The frame.append method is deprecated and will be removed from pandas in a future version. Use pandas.concat instead.\n",
      "  variable_selection_results = variable_selection_results.append({\n",
      "C:\\Users\\abact\\AppData\\Local\\Temp\\ipykernel_14712\\2593679913.py:20: FutureWarning: The frame.append method is deprecated and will be removed from pandas in a future version. Use pandas.concat instead.\n",
      "  variable_selection_results = variable_selection_results.append({\n",
      "C:\\Users\\abact\\AppData\\Local\\Temp\\ipykernel_14712\\2593679913.py:20: FutureWarning: The frame.append method is deprecated and will be removed from pandas in a future version. Use pandas.concat instead.\n",
      "  variable_selection_results = variable_selection_results.append({\n",
      "C:\\Users\\abact\\AppData\\Local\\Temp\\ipykernel_14712\\2593679913.py:20: FutureWarning: The frame.append method is deprecated and will be removed from pandas in a future version. Use pandas.concat instead.\n",
      "  variable_selection_results = variable_selection_results.append({\n",
      "C:\\Users\\abact\\AppData\\Local\\Temp\\ipykernel_14712\\2593679913.py:20: FutureWarning: The frame.append method is deprecated and will be removed from pandas in a future version. Use pandas.concat instead.\n",
      "  variable_selection_results = variable_selection_results.append({\n",
      "C:\\Users\\abact\\AppData\\Local\\Temp\\ipykernel_14712\\2593679913.py:20: FutureWarning: The frame.append method is deprecated and will be removed from pandas in a future version. Use pandas.concat instead.\n",
      "  variable_selection_results = variable_selection_results.append({\n",
      "C:\\Users\\abact\\AppData\\Local\\Temp\\ipykernel_14712\\2593679913.py:20: FutureWarning: The frame.append method is deprecated and will be removed from pandas in a future version. Use pandas.concat instead.\n",
      "  variable_selection_results = variable_selection_results.append({\n",
      "C:\\Users\\abact\\AppData\\Local\\Temp\\ipykernel_14712\\2593679913.py:20: FutureWarning: The frame.append method is deprecated and will be removed from pandas in a future version. Use pandas.concat instead.\n",
      "  variable_selection_results = variable_selection_results.append({\n",
      "C:\\Users\\abact\\AppData\\Local\\Temp\\ipykernel_14712\\2593679913.py:20: FutureWarning: The frame.append method is deprecated and will be removed from pandas in a future version. Use pandas.concat instead.\n",
      "  variable_selection_results = variable_selection_results.append({\n",
      "C:\\Users\\abact\\AppData\\Local\\Temp\\ipykernel_14712\\2593679913.py:20: FutureWarning: The frame.append method is deprecated and will be removed from pandas in a future version. Use pandas.concat instead.\n",
      "  variable_selection_results = variable_selection_results.append({\n",
      "C:\\Users\\abact\\AppData\\Local\\Temp\\ipykernel_14712\\2593679913.py:20: FutureWarning: The frame.append method is deprecated and will be removed from pandas in a future version. Use pandas.concat instead.\n",
      "  variable_selection_results = variable_selection_results.append({\n",
      "C:\\Users\\abact\\AppData\\Local\\Temp\\ipykernel_14712\\2593679913.py:20: FutureWarning: The frame.append method is deprecated and will be removed from pandas in a future version. Use pandas.concat instead.\n",
      "  variable_selection_results = variable_selection_results.append({\n",
      "C:\\Users\\abact\\AppData\\Local\\Temp\\ipykernel_14712\\2593679913.py:20: FutureWarning: The frame.append method is deprecated and will be removed from pandas in a future version. Use pandas.concat instead.\n",
      "  variable_selection_results = variable_selection_results.append({\n",
      "C:\\Users\\abact\\AppData\\Local\\Temp\\ipykernel_14712\\2593679913.py:20: FutureWarning: The frame.append method is deprecated and will be removed from pandas in a future version. Use pandas.concat instead.\n",
      "  variable_selection_results = variable_selection_results.append({\n",
      "C:\\Users\\abact\\AppData\\Local\\Temp\\ipykernel_14712\\2593679913.py:20: FutureWarning: The frame.append method is deprecated and will be removed from pandas in a future version. Use pandas.concat instead.\n",
      "  variable_selection_results = variable_selection_results.append({\n",
      "C:\\Users\\abact\\AppData\\Local\\Temp\\ipykernel_14712\\2593679913.py:20: FutureWarning: The frame.append method is deprecated and will be removed from pandas in a future version. Use pandas.concat instead.\n",
      "  variable_selection_results = variable_selection_results.append({\n",
      "C:\\Users\\abact\\AppData\\Local\\Temp\\ipykernel_14712\\2593679913.py:20: FutureWarning: The frame.append method is deprecated and will be removed from pandas in a future version. Use pandas.concat instead.\n",
      "  variable_selection_results = variable_selection_results.append({\n",
      "C:\\Users\\abact\\AppData\\Local\\Temp\\ipykernel_14712\\2593679913.py:20: FutureWarning: The frame.append method is deprecated and will be removed from pandas in a future version. Use pandas.concat instead.\n",
      "  variable_selection_results = variable_selection_results.append({\n",
      "C:\\Users\\abact\\AppData\\Local\\Temp\\ipykernel_14712\\2593679913.py:20: FutureWarning: The frame.append method is deprecated and will be removed from pandas in a future version. Use pandas.concat instead.\n",
      "  variable_selection_results = variable_selection_results.append({\n",
      "C:\\Users\\abact\\AppData\\Local\\Temp\\ipykernel_14712\\2593679913.py:20: FutureWarning: The frame.append method is deprecated and will be removed from pandas in a future version. Use pandas.concat instead.\n",
      "  variable_selection_results = variable_selection_results.append({\n",
      "C:\\Users\\abact\\AppData\\Local\\Temp\\ipykernel_14712\\2593679913.py:20: FutureWarning: The frame.append method is deprecated and will be removed from pandas in a future version. Use pandas.concat instead.\n",
      "  variable_selection_results = variable_selection_results.append({\n",
      "C:\\Users\\abact\\AppData\\Local\\Temp\\ipykernel_14712\\2593679913.py:20: FutureWarning: The frame.append method is deprecated and will be removed from pandas in a future version. Use pandas.concat instead.\n",
      "  variable_selection_results = variable_selection_results.append({\n",
      "C:\\Users\\abact\\AppData\\Local\\Temp\\ipykernel_14712\\2593679913.py:20: FutureWarning: The frame.append method is deprecated and will be removed from pandas in a future version. Use pandas.concat instead.\n",
      "  variable_selection_results = variable_selection_results.append({\n",
      "C:\\Users\\abact\\AppData\\Local\\Temp\\ipykernel_14712\\2593679913.py:20: FutureWarning: The frame.append method is deprecated and will be removed from pandas in a future version. Use pandas.concat instead.\n",
      "  variable_selection_results = variable_selection_results.append({\n",
      "C:\\Users\\abact\\AppData\\Local\\Temp\\ipykernel_14712\\2593679913.py:20: FutureWarning: The frame.append method is deprecated and will be removed from pandas in a future version. Use pandas.concat instead.\n",
      "  variable_selection_results = variable_selection_results.append({\n",
      "C:\\Users\\abact\\AppData\\Local\\Temp\\ipykernel_14712\\2593679913.py:20: FutureWarning: The frame.append method is deprecated and will be removed from pandas in a future version. Use pandas.concat instead.\n",
      "  variable_selection_results = variable_selection_results.append({\n",
      "C:\\Users\\abact\\AppData\\Roaming\\Python\\Python310\\site-packages\\scipy\\stats\\mstats_basic.py:1077: RuntimeWarning: divide by zero encountered in true_divide\n",
      "  denom = ma.sqrt(svar*(1.0/n1 + 1.0/n2))  # n-D computation here!\n",
      "C:\\Users\\abact\\AppData\\Local\\Temp\\ipykernel_14712\\2593679913.py:20: FutureWarning: The frame.append method is deprecated and will be removed from pandas in a future version. Use pandas.concat instead.\n",
      "  variable_selection_results = variable_selection_results.append({\n"
     ]
    }
   ],
   "source": [
    "# Create a copy of the 'train' DataFrame\n",
    "test_data = train.copy()\n",
    "\n",
    "# Create an empty DataFrame to store the results\n",
    "variable_selection_results = pd.DataFrame(columns=['Variable', 't-statistic', 'p-value'])\n",
    "\n",
    "# Convert 'Date' column to numeric temporarily\n",
    "test_data['Date_numeric'] = pd.to_numeric(test_data['Date'], errors='coerce')\n",
    "\n",
    "# Iterate over each predictor variable in the 'test_data' dataset\n",
    "for predictor_variable in test_data.columns:\n",
    "    if predictor_variable != 'Difference' and predictor_variable != 'Date':\n",
    "        # Convert predictor variable to numeric type\n",
    "        test_data[predictor_variable] = pd.to_numeric(test_data[predictor_variable], errors='coerce')\n",
    "        \n",
    "        # Perform the t-test\n",
    "        t_stat, p_value = stats.ttest_ind(test_data[predictor_variable], test_data['Difference'], nan_policy='omit')\n",
    "        \n",
    "        # Store the results in the DataFrame\n",
    "        variable_selection_results = variable_selection_results.append({\n",
    "            'Variable': predictor_variable,\n",
    "            't-statistic': t_stat,\n",
    "            'p-value': p_value\n",
    "        }, ignore_index=True)\n",
    "\n",
    "# Sort the results by p-value in ascending order\n",
    "variable_selection_results = variable_selection_results.sort_values(by='p-value', ascending=True)\n",
    "\n",
    "# Convert 'Date_numeric' back to a date\n",
    "test_data['Date_numeric'] = pd.to_datetime(test_data['Date_numeric'], errors='coerce')\n",
    "\n",
    "# Print the variable selection results\n",
    "print(variable_selection_results)"
   ]
  },
  {
   "cell_type": "markdown",
   "id": "76fb6799",
   "metadata": {},
   "source": [
    "###Subset Selection"
   ]
  },
  {
   "cell_type": "code",
   "execution_count": 4,
   "id": "6581b122",
   "metadata": {},
   "outputs": [
    {
     "data": {
      "text/plain": [
       "3                                  CPI\n",
       "25    Durable Goods Orders_RollingMean\n",
       "6                 Durable Goods Orders\n",
       "14             Average Hourly Earnings\n",
       "5                         Retail Sales\n",
       "24            Retail Sales_RollingMean\n",
       "4                    Unemployment Rate\n",
       "8         Long-Term Treasury Bond Rate\n",
       "19        Standardized Sentiment Score\n",
       "2                                Level\n",
       "7        Short-Term Treasury Bond Rate\n",
       "70                                risk\n",
       "17                  Negative Frequency\n",
       "83                           suggested\n",
       "31                            appeared\n",
       "Name: Variable, dtype: object"
      ]
     },
     "execution_count": 4,
     "metadata": {},
     "output_type": "execute_result"
    }
   ],
   "source": [
    "top_15_variable_names = variable_selection_results['Variable'].head(15)\n",
    "top_15_variable_names"
   ]
  },
  {
   "cell_type": "code",
   "execution_count": 5,
   "id": "343632f8",
   "metadata": {},
   "outputs": [
    {
     "name": "stdout",
     "output_type": "stream",
     "text": [
      "                            OLS Regression Results                            \n",
      "==============================================================================\n",
      "Dep. Variable:             Difference   R-squared:                       0.324\n",
      "Model:                            OLS   Adj. R-squared:                  0.267\n",
      "Method:                 Least Squares   F-statistic:                     5.604\n",
      "Date:                Fri, 21 Jul 2023   Prob (F-statistic):           2.85e-09\n",
      "Time:                        16:05:02   Log-Likelihood:                 73.258\n",
      "No. Observations:                 191   AIC:                            -114.5\n",
      "Df Residuals:                     175   BIC:                            -62.48\n",
      "Df Model:                          15                                         \n",
      "Covariance Type:            nonrobust                                         \n",
      "====================================================================================================\n",
      "                                       coef    std err          t      P>|t|      [0.025      0.975]\n",
      "----------------------------------------------------------------------------------------------------\n",
      "const                                0.4166      0.522      0.799      0.425      -0.613       1.446\n",
      "CPI                                 -0.0208      0.011     -1.970      0.050      -0.042    3.97e-05\n",
      "Durable Goods Orders_RollingMean -3.025e-06   2.64e-06     -1.146      0.253   -8.23e-06    2.18e-06\n",
      "Durable Goods Orders              2.222e-06   2.07e-06      1.074      0.284   -1.86e-06     6.3e-06\n",
      "Average Hourly Earnings              0.0991      0.079      1.256      0.211      -0.057       0.255\n",
      "Retail Sales                       1.56e-05   4.97e-06      3.138      0.002    5.79e-06    2.54e-05\n",
      "Retail Sales_RollingMean         -9.671e-06   5.78e-06     -1.672      0.096   -2.11e-05    1.74e-06\n",
      "Unemployment Rate                    0.0322      0.025      1.287      0.200      -0.017       0.082\n",
      "Long-Term Treasury Bond Rate         0.0673      0.027      2.450      0.015       0.013       0.121\n",
      "Standardized Sentiment Score         0.0119      0.081      0.148      0.883      -0.147       0.171\n",
      "Level                               -0.1939      0.086     -2.244      0.026      -0.364      -0.023\n",
      "Short-Term Treasury Bond Rate        0.2156      0.092      2.353      0.020       0.035       0.396\n",
      "risk                                 0.0006      0.000      3.585      0.000       0.000       0.001\n",
      "Negative Frequency               -1.072e-05   2.64e-05     -0.407      0.685   -6.28e-05    4.13e-05\n",
      "suggested                           -0.0002      0.000     -0.663      0.508      -0.001       0.000\n",
      "appeared                            -0.0004      0.000     -0.957      0.340      -0.001       0.000\n",
      "==============================================================================\n",
      "Omnibus:                       18.680   Durbin-Watson:                   1.490\n",
      "Prob(Omnibus):                  0.000   Jarque-Bera (JB):               40.535\n",
      "Skew:                          -0.427   Prob(JB):                     1.58e-09\n",
      "Kurtosis:                       5.089   Cond. No.                     2.10e+07\n",
      "==============================================================================\n",
      "\n",
      "Notes:\n",
      "[1] Standard Errors assume that the covariance matrix of the errors is correctly specified.\n",
      "[2] The condition number is large, 2.1e+07. This might indicate that there are\n",
      "strong multicollinearity or other numerical problems.\n"
     ]
    }
   ],
   "source": [
    "# Add the selected independent variables to the model\n",
    "X = sm.add_constant(train[top_15_variable_names])\n",
    "\n",
    "# Fit the OLS model\n",
    "model = sm.OLS(train['Difference'], X).fit()\n",
    "\n",
    "# Print the model summary\n",
    "print(model.summary())"
   ]
  },
  {
   "cell_type": "code",
   "execution_count": 6,
   "id": "38c121d4",
   "metadata": {},
   "outputs": [
    {
     "name": "stdout",
     "output_type": "stream",
     "text": [
      "Mean Squared Error (MSE): 0.029673745552444918\n",
      "Root Mean Squared Error (RMSE): 0.17226069067679056\n",
      "AIC: -114.51667299395376\n",
      "AICc: -62.48029814520768\n"
     ]
    }
   ],
   "source": [
    "# Calculate Mean Squared Error (MSE)\n",
    "mse = model.mse_resid\n",
    "\n",
    "# Calculate Root Mean Squared Error (RMSE)\n",
    "rmse = np.sqrt(mse)\n",
    "\n",
    "# Print MSE and RMSE\n",
    "print(\"Mean Squared Error (MSE):\", mse)\n",
    "print(\"Root Mean Squared Error (RMSE):\", rmse)\n",
    "# Print the AIC and AICc\n",
    "print(\"AIC:\", model.aic)\n",
    "print(\"AICc:\", model.bic)"
   ]
  },
  {
   "cell_type": "code",
   "execution_count": 7,
   "id": "b3ca2052",
   "metadata": {},
   "outputs": [
    {
     "data": {
      "image/png": "[encoded data removed]",
      "text/plain": [
       "<Figure size 640x480 with 1 Axes>"
      ]
     },
     "metadata": {},
     "output_type": "display_data"
    }
   ],
   "source": [
    "# Get the residuals\n",
    "residuals = model.resid\n",
    "\n",
    "# Create a DataFrame with 'Date' and residuals\n",
    "residuals_df = pd.DataFrame({'Date': train['Date'], 'Residuals': residuals})\n",
    "\n",
    "# Plot the residuals\n",
    "fig, ax = plt.subplots()\n",
    "ax.plot(residuals_df['Date'], residuals_df['Residuals'], marker='o', linestyle='None')\n",
    "ax.axhline(y=0, color='gray', linestyle='--')\n",
    "ax.set_xlabel('Date')\n",
    "ax.set_ylabel('Residuals')\n",
    "ax.set_title('Residual Plot')\n",
    "plt.show()"
   ]
  },
  {
   "cell_type": "markdown",
   "id": "4134c37c",
   "metadata": {},
   "source": [
    "###Validation Test"
   ]
  },
  {
   "cell_type": "code",
   "execution_count": 8,
   "id": "3536f7cc",
   "metadata": {},
   "outputs": [
    {
     "data": {
      "text/plain": [
       "3                                  CPI\n",
       "25    Durable Goods Orders_RollingMean\n",
       "6                 Durable Goods Orders\n",
       "14             Average Hourly Earnings\n",
       "5                         Retail Sales\n",
       "24            Retail Sales_RollingMean\n",
       "4                    Unemployment Rate\n",
       "8         Long-Term Treasury Bond Rate\n",
       "19        Standardized Sentiment Score\n",
       "2                                Level\n",
       "7        Short-Term Treasury Bond Rate\n",
       "70                                risk\n",
       "17                  Negative Frequency\n",
       "83                           suggested\n",
       "31                            appeared\n",
       "Name: Variable, dtype: object"
      ]
     },
     "execution_count": 8,
     "metadata": {},
     "output_type": "execute_result"
    }
   ],
   "source": [
    "top_15_variable_names"
   ]
  },
  {
   "cell_type": "code",
   "execution_count": 9,
   "id": "c696e0a6",
   "metadata": {},
   "outputs": [
    {
     "name": "stdout",
     "output_type": "stream",
     "text": [
      "Validation Mean Squared Error (MSE): 0.07807856891604158\n",
      "Validation Root Mean Squared Error (RMSE): 0.2794254263950251\n",
      "Validation R-squared (R^2): -0.20128896682844588\n",
      "Validation Adjusted R-squared (Adj R^2): -2.9470923195791796\n",
      "Validation AICc: 48.51333374283501\n"
     ]
    }
   ],
   "source": [
    "# Select the variables used in the model for the validation set\n",
    "X_valid = valid[model.params.index[1:]]  # Exclude the constant term\n",
    "X_valid = sm.add_constant(X_valid)  # Add a constant column if needed\n",
    "y_valid = valid['Difference']\n",
    "\n",
    "# Generate predictions on the validation set\n",
    "y_pred = model.predict(X_valid)\n",
    "\n",
    "# Calculate the mean squared error (MSE)\n",
    "mse = mean_squared_error(y_valid, y_pred)\n",
    "\n",
    "# Calculate the root mean squared error (RMSE)\n",
    "rmse = np.sqrt(mse)\n",
    "\n",
    "# Calculate R-squared (R^2)\n",
    "r2 = r2_score(y_valid, y_pred)\n",
    "\n",
    "# Calculate adjusted R-squared (Adj R^2)\n",
    "n_valid = len(y_valid)\n",
    "k_valid = X_valid.shape[1]\n",
    "adj_r2 = 1 - ((1 - r2) * (n_valid - 1)) / (n_valid - k_valid - 1)\n",
    "\n",
    "# Calculate AICc\n",
    "n = len(y_valid)\n",
    "k = X_valid.shape[1]\n",
    "aic = n * np.log(mse) + 2 * k + (2 * k * (k + 1)) / (n - k - 1)\n",
    "\n",
    "print(\"Validation Mean Squared Error (MSE):\", mse)\n",
    "print(\"Validation Root Mean Squared Error (RMSE):\", rmse)\n",
    "print(\"Validation R-squared (R^2):\", r2)\n",
    "print(\"Validation Adjusted R-squared (Adj R^2):\", adj_r2)\n",
    "print(\"Validation AICc:\", aic)"
   ]
  },
  {
   "cell_type": "markdown",
   "id": "363de93d",
   "metadata": {},
   "source": [
    "###All variables"
   ]
  },
  {
   "cell_type": "code",
   "execution_count": 10,
   "id": "246f33b8",
   "metadata": {},
   "outputs": [
    {
     "name": "stdout",
     "output_type": "stream",
     "text": [
      "                            OLS Regression Results                            \n",
      "==============================================================================\n",
      "Dep. Variable:             Difference   R-squared:                       0.867\n",
      "Model:                            OLS   Adj. R-squared:                  0.747\n",
      "Method:                 Least Squares   F-statistic:                     7.217\n",
      "Date:                Fri, 21 Jul 2023   Prob (F-statistic):           5.17e-20\n",
      "Time:                        16:05:03   Log-Likelihood:                 228.16\n",
      "No. Observations:                 191   AIC:                            -274.3\n",
      "Df Residuals:                     100   BIC:                             21.63\n",
      "Df Model:                          90                                         \n",
      "Covariance Type:            nonrobust                                         \n",
      "====================================================================================================\n",
      "                                       coef    std err          t      P>|t|      [0.025      0.975]\n",
      "----------------------------------------------------------------------------------------------------\n",
      "const                                0.1592      0.264      0.604      0.547      -0.364       0.682\n",
      "Level                                0.2104      0.095      2.222      0.029       0.023       0.398\n",
      "CPI                                  0.0024      0.010      0.229      0.819      -0.018       0.023\n",
      "Unemployment Rate                    0.0250      0.038      0.660      0.511      -0.050       0.100\n",
      "Retail Sales                     -4.647e-06    5.4e-06     -0.861      0.391   -1.54e-05    6.06e-06\n",
      "Durable Goods Orders              4.133e-07   1.62e-06      0.254      0.800   -2.81e-06    3.64e-06\n",
      "Short-Term Treasury Bond Rate       -0.2070      0.097     -2.125      0.036      -0.400      -0.014\n",
      "Long-Term Treasury Bond Rate        -0.0009      0.028     -0.030      0.976      -0.057       0.056\n",
      "Bank Reserves                        0.0002      0.001      0.284      0.777      -0.001       0.001\n",
      "LEI                                 -1.7635      2.506     -0.704      0.483      -6.736       3.209\n",
      "CEI                                 -2.9637     22.486     -0.132      0.895     -47.576      41.648\n",
      "LAG                                  0.8615      6.555      0.131      0.896     -12.144      13.867\n",
      "Treasury Deposits                   -0.0002      0.001     -0.316      0.752      -0.001       0.001\n",
      "Average Hourly Earnings             -0.1101      0.070     -1.572      0.119      -0.249       0.029\n",
      "Net Sentiment Score                 -0.0001      0.000     -0.672      0.503      -0.000       0.000\n",
      "Positive Frequency               -8.127e-05      0.000     -0.654      0.514      -0.000       0.000\n",
      "Negative Frequency                3.889e-05   9.46e-05      0.411      0.682      -0.000       0.000\n",
      "Word Count                        3.203e-07   3.07e-06      0.104      0.917   -5.77e-06    6.41e-06\n",
      "Standardized Sentiment Score         0.1516      0.251      0.604      0.547      -0.347       0.650\n",
      "Short-Term Treasury Diff             0.5937      0.065      9.125      0.000       0.465       0.723\n",
      "LEI_RollingMean                      1.7732      2.737      0.648      0.519      -3.656       7.203\n",
      "CEI_RollingMean                      2.6815     26.287      0.102      0.919     -49.471      54.834\n",
      "LAG_RollingMean                     -0.7608      7.660     -0.099      0.921     -15.957      14.436\n",
      "Retail Sales_RollingMean          1.062e-05   5.95e-06      1.787      0.077   -1.17e-06    2.24e-05\n",
      "Durable Goods Orders_RollingMean -4.984e-06   2.22e-06     -2.243      0.027   -9.39e-06   -5.75e-07\n",
      "almost                              -0.0022      0.004     -0.582      0.562      -0.010       0.005\n",
      "anticipated                         -0.0001      0.001     -0.184      0.855      -0.001       0.001\n",
      "anticipating                         0.0058      0.004      1.427      0.157      -0.002       0.014\n",
      "apparent                          3.679e-05      0.003      0.012      0.990      -0.006       0.006\n",
      "apparently                           0.0001      0.001      0.104      0.917      -0.003       0.003\n",
      "appeared                             0.0013      0.001      1.270      0.207      -0.001       0.003\n",
      "appearing                           -0.0255      0.024     -1.068      0.288      -0.073       0.022\n",
      "assumed                             -0.0007      0.008     -0.089      0.929      -0.016       0.014\n",
      "assumption                          -0.0031      0.005     -0.594      0.554      -0.013       0.007\n",
      "attain                               0.4502      0.110      4.094      0.000       0.232       0.668\n",
      "attractive                          -0.0005      0.003     -0.140      0.889      -0.007       0.006\n",
      "attractiveness                       0.0049      0.012      0.391      0.696      -0.020       0.029\n",
      "believed                            -0.0007      0.001     -0.644      0.521      -0.003       0.002\n",
      "better                               0.0015      0.002      0.842      0.402      -0.002       0.005\n",
      "bolstered                           -0.0057      0.006     -0.985      0.327      -0.017       0.006\n",
      "bolstering                          -0.0064      0.011     -0.589      0.557      -0.028       0.015\n",
      "cautious                         -3.986e-05      0.002     -0.017      0.986      -0.005       0.005\n",
      "cautiously                          -0.0123      0.021     -0.591      0.556      -0.054       0.029\n",
      "could                                0.0009      0.001      1.669      0.098      -0.000       0.002\n",
      "depend                              -0.0023      0.004     -0.625      0.533      -0.009       0.005\n",
      "easier                               0.0053      0.011      0.499      0.619      -0.016       0.026\n",
      "encouragement                       -0.1651      0.048     -3.455      0.001      -0.260      -0.070\n",
      "favorable                           -0.0001      0.001     -0.094      0.925      -0.002       0.002\n",
      "gaining                             -0.0246      0.017     -1.440      0.153      -0.058       0.009\n",
      "good                                 0.0006      0.001      0.774      0.440      -0.001       0.002\n",
      "improved                            -0.0030      0.002     -1.314      0.192      -0.008       0.002\n",
      "improvement                          0.0020      0.001      1.573      0.119      -0.001       0.004\n",
      "leading                             -0.0025      0.005     -0.461      0.646      -0.013       0.008\n",
      "might                               -0.0006      0.000     -1.300      0.197      -0.002       0.000\n",
      "nearly                              -0.0048      0.003     -1.573      0.119      -0.011       0.001\n",
      "opportunity                          0.0006      0.002      0.308      0.759      -0.003       0.004\n",
      "optimistic                           0.0025      0.003      0.769      0.444      -0.004       0.009\n",
      "positive                            -0.0003      0.002     -0.129      0.897      -0.004       0.004\n",
      "possibility                          0.0009      0.002      0.563      0.575      -0.002       0.004\n",
      "possibly                            -0.0011      0.002     -0.503      0.616      -0.005       0.003\n",
      "presumed                             0.0003      0.013      0.023      0.981      -0.025       0.026\n",
      "profitability                        0.0004      0.013      0.031      0.975      -0.025       0.026\n",
      "progress                            -0.0014      0.002     -0.913      0.363      -0.004       0.002\n",
      "progressed                          -0.0003      0.006     -0.048      0.962      -0.012       0.012\n",
      "prosperity                          -0.0105      0.013     -0.787      0.433      -0.037       0.016\n",
      "rebound                              0.0005      0.002      0.337      0.737      -0.003       0.004\n",
      "rebounded                            0.0005      0.003      0.172      0.864      -0.005       0.006\n",
      "rebounding                           0.0071      0.027      0.258      0.797      -0.047       0.061\n",
      "regain                              -0.0190      0.017     -1.134      0.260      -0.052       0.014\n",
      "risk                                -0.0005      0.000     -0.977      0.331      -0.001       0.000\n",
      "roughly                              0.0034      0.003      1.133      0.260      -0.003       0.009\n",
      "satisfactory                        -0.0024      0.005     -0.484      0.630      -0.012       0.007\n",
      "smooth                              -0.0228      0.018     -1.272      0.206      -0.058       0.013\n",
      "sometime                            -0.0137      0.041     -0.336      0.737      -0.095       0.067\n",
      "stabilization                        0.0002      0.004      0.046      0.963      -0.007       0.008\n",
      "stabilized                          -0.0013      0.005     -0.279      0.781      -0.011       0.008\n",
      "stable                              -0.0014      0.002     -0.705      0.482      -0.005       0.002\n",
      "strengthening                       -0.0011      0.001     -0.826      0.411      -0.004       0.001\n",
      "stronger                            -0.0003      0.003     -0.095      0.925      -0.006       0.005\n",
      "strongest                            0.0274      0.042      0.658      0.512      -0.055       0.110\n",
      "succeeded                           -0.0188      0.019     -0.984      0.327      -0.057       0.019\n",
      "sudden                               0.0002      0.009      0.019      0.985      -0.017       0.017\n",
      "suggested                           -0.0009      0.001     -0.917      0.362      -0.003       0.001\n",
      "suggesting                           0.0014      0.003      0.513      0.609      -0.004       0.007\n",
      "surpassing                       -1.135e-13   1.07e-12     -0.106      0.915   -2.23e-12       2e-12\n",
      "tremendous                       -1.862e-13   1.75e-12     -0.106      0.916   -3.66e-12    3.29e-12\n",
      "uncertain                           -0.0008      0.002     -0.454      0.651      -0.004       0.003\n",
      "uncertainty                          0.0002      0.001      0.318      0.751      -0.001       0.001\n",
      "unclear                             -0.0017      0.004     -0.423      0.673      -0.010       0.006\n",
      "unexpected                          -0.0015      0.003     -0.578      0.564      -0.007       0.004\n",
      "unknown                             -0.0014      0.010     -0.140      0.889      -0.021       0.019\n",
      "upturn                               0.0004      0.001      0.289      0.773      -0.002       0.003\n",
      "vary                                -0.0098      0.014     -0.710      0.479      -0.037       0.018\n",
      "volatile                             0.0009      0.002      0.421      0.675      -0.003       0.005\n",
      "volatility                           0.0017      0.003      0.541      0.590      -0.004       0.008\n",
      "==============================================================================\n",
      "Omnibus:                       45.849   Durbin-Watson:                   2.299\n",
      "Prob(Omnibus):                  0.000   Jarque-Bera (JB):              218.650\n",
      "Skew:                           0.788   Prob(JB):                     3.32e-48\n",
      "Kurtosis:                       7.999   Cond. No.                     1.02e+16\n",
      "==============================================================================\n",
      "\n",
      "Notes:\n",
      "[1] Standard Errors assume that the covariance matrix of the errors is correctly specified.\n",
      "[2] The smallest eigenvalue is 4.58e-19. This might indicate that there are\n",
      "strong multicollinearity problems or that the design matrix is singular.\n"
     ]
    }
   ],
   "source": [
    "excluded_variables = ['Increase', 'Decrease', 'Date']\n",
    "predictor_variables = train.drop(['Difference'] + excluded_variables, axis=1).columns\n",
    "model = sm.OLS(train['Difference'], sm.add_constant(train[predictor_variables])).fit()\n",
    "\n",
    "# Print the summary of the linear regression results\n",
    "print(model.summary())"
   ]
  },
  {
   "cell_type": "code",
   "execution_count": 11,
   "id": "87c3aa2f",
   "metadata": {},
   "outputs": [
    {
     "name": "stdout",
     "output_type": "stream",
     "text": [
      "Mean Squared Error (MSE): 0.010255705256058012\n",
      "Root Mean Squared Error (RMSE): 0.1012704559882003\n",
      "AIC: -274.32713306802543\n",
      "AICc: 21.62974888421786\n"
     ]
    }
   ],
   "source": [
    "# Calculate Mean Squared Error (MSE)\n",
    "mse = model.mse_resid\n",
    "\n",
    "# Calculate Root Mean Squared Error (RMSE)\n",
    "rmse = np.sqrt(mse)\n",
    "\n",
    "# Print MSE and RMSE\n",
    "print(\"Mean Squared Error (MSE):\", mse)\n",
    "print(\"Root Mean Squared Error (RMSE):\", rmse)\n",
    "# Print the AIC and AICc\n",
    "print(\"AIC:\", model.aic)\n",
    "print(\"AICc:\", model.bic)"
   ]
  },
  {
   "cell_type": "code",
   "execution_count": 12,
   "id": "2c2f9eeb",
   "metadata": {},
   "outputs": [
    {
     "data": {
      "image/png": "[encoded data removed]",
      "text/plain": [
       "<Figure size 640x480 with 1 Axes>"
      ]
     },
     "metadata": {},
     "output_type": "display_data"
    }
   ],
   "source": [
    "# Get the residuals\n",
    "residuals = model.resid\n",
    "\n",
    "# Create a DataFrame with 'Date' and residuals\n",
    "residuals_df = pd.DataFrame({'Date': train['Date'], 'Residuals': residuals})\n",
    "\n",
    "# Plot the residuals\n",
    "fig, ax = plt.subplots()\n",
    "ax.plot(residuals_df['Date'], residuals_df['Residuals'], marker='o', linestyle='None')\n",
    "ax.axhline(y=0, color='gray', linestyle='--')\n",
    "ax.set_xlabel('Date')\n",
    "ax.set_ylabel('Residuals')\n",
    "ax.set_title('Residual Plot')\n",
    "plt.show()"
   ]
  },
  {
   "cell_type": "code",
   "execution_count": 13,
   "id": "2369064f",
   "metadata": {},
   "outputs": [
    {
     "name": "stdout",
     "output_type": "stream",
     "text": [
      "Mean Squared Error (MSE): 0.022231435903728055\n",
      "Root Mean Squared Error (RMSE): 0.14910209892462298\n",
      "R-squared (R^2): 0.6579550696347951\n",
      "Adjusted R-squared (Adj R^2): 1.1092643527555515\n",
      "AICc: -154.68328437409852\n"
     ]
    }
   ],
   "source": [
    "# Prepare the validation data\n",
    "X_valid = sm.add_constant(valid[predictor_variables])\n",
    "y_valid = valid['Difference']\n",
    "\n",
    "# Generate predictions on the validation set\n",
    "y_pred = model.predict(X_valid)\n",
    "\n",
    "# Calculate the mean squared error (MSE)\n",
    "mse = mean_squared_error(y_valid, y_pred)\n",
    "\n",
    "# Calculate the root mean squared error (RMSE)\n",
    "rmse = np.sqrt(mse)\n",
    "\n",
    "# Calculate R-squared (R^2)\n",
    "r2 = r2_score(y_valid, y_pred)\n",
    "\n",
    "# Calculate adjusted R-squared (Adj R^2)\n",
    "n_valid = len(y_valid)\n",
    "k_valid = X_valid.shape[1]\n",
    "adj_r2 = 1 - ((1 - r2) * (n_valid - 1)) / (n_valid - k_valid - 1)\n",
    "\n",
    "# Calculate AICc\n",
    "n = len(y_valid)\n",
    "k = X_valid.shape[1]\n",
    "aic = n * np.log(mse) + 2 * k + (2 * k * (k + 1)) / (n - k - 1)\n",
    "\n",
    "# Print the accuracy metrics\n",
    "print(\"Mean Squared Error (MSE):\", mse)\n",
    "print(\"Root Mean Squared Error (RMSE):\", rmse)\n",
    "print(\"R-squared (R^2):\", r2)\n",
    "print(\"Adjusted R-squared (Adj R^2):\", adj_r2)\n",
    "print(\"AICc:\", aic)\n"
   ]
  },
  {
   "cell_type": "markdown",
   "id": "1f205356",
   "metadata": {},
   "source": [
    "###Reverse Variable Selection (p-value)"
   ]
  },
  {
   "cell_type": "code",
   "execution_count": 14,
   "id": "f37ab516",
   "metadata": {},
   "outputs": [
    {
     "name": "stdout",
     "output_type": "stream",
     "text": [
      "                            OLS Regression Results                            \n",
      "==============================================================================\n",
      "Dep. Variable:             Difference   R-squared:                       0.823\n",
      "Model:                            OLS   Adj. R-squared:                  0.796\n",
      "Method:                 Least Squares   F-statistic:                     30.71\n",
      "Date:                Fri, 21 Jul 2023   Prob (F-statistic):           1.74e-49\n",
      "Time:                        16:05:07   Log-Likelihood:                 201.22\n",
      "No. Observations:                 191   AIC:                            -350.4\n",
      "Df Residuals:                     165   BIC:                            -265.9\n",
      "Df Model:                          25                                         \n",
      "Covariance Type:            nonrobust                                         \n",
      "====================================================================================================\n",
      "                                       coef    std err          t      P>|t|      [0.025      0.975]\n",
      "----------------------------------------------------------------------------------------------------\n",
      "const                                0.2240      0.071      3.172      0.002       0.085       0.363\n",
      "Level                                0.1630      0.054      2.998      0.003       0.056       0.270\n",
      "Short-Term Treasury Bond Rate       -0.1688      0.058     -2.932      0.004      -0.283      -0.055\n",
      "LEI                                 -0.7657      0.159     -4.807      0.000      -1.080      -0.451\n",
      "Average Hourly Earnings             -0.0673      0.018     -3.799      0.000      -0.102      -0.032\n",
      "Net Sentiment Score                 -0.0002    5.3e-05     -2.881      0.004      -0.000   -4.81e-05\n",
      "Positive Frequency               -8.059e-05   3.03e-05     -2.656      0.009      -0.000   -2.07e-05\n",
      "Negative Frequency                7.222e-05   2.44e-05      2.961      0.004    2.41e-05       0.000\n",
      "Standardized Sentiment Score         0.2134      0.067      3.172      0.002       0.081       0.346\n",
      "Short-Term Treasury Diff             0.5861      0.037     15.818      0.000       0.513       0.659\n",
      "Retail Sales_RollingMean          4.166e-06    9.3e-07      4.478      0.000    2.33e-06       6e-06\n",
      "Durable Goods Orders_RollingMean -2.949e-06   7.62e-07     -3.870      0.000   -4.45e-06   -1.44e-06\n",
      "anticipating                         0.0059      0.001      4.466      0.000       0.003       0.008\n",
      "appearing                           -0.0196      0.008     -2.613      0.010      -0.034      -0.005\n",
      "assumption                          -0.0068      0.002     -3.340      0.001      -0.011      -0.003\n",
      "attain                               0.4436      0.093      4.762      0.000       0.260       0.628\n",
      "bolstered                           -0.0042      0.002     -2.255      0.025      -0.008      -0.001\n",
      "bolstering                          -0.0083      0.003     -3.211      0.002      -0.013      -0.003\n",
      "could                                0.0004      0.000      3.550      0.001       0.000       0.001\n",
      "depend                              -0.0017      0.001     -2.293      0.023      -0.003      -0.000\n",
      "easier                               0.0047      0.002      2.303      0.023       0.001       0.009\n",
      "encouragement                       -0.1891      0.039     -4.857      0.000      -0.266      -0.112\n",
      "might                               -0.0007      0.000     -4.681      0.000      -0.001      -0.000\n",
      "nearly                              -0.0035      0.001     -3.004      0.003      -0.006      -0.001\n",
      "prosperity                          -0.0119      0.003     -3.522      0.001      -0.019      -0.005\n",
      "regain                              -0.0113      0.003     -4.379      0.000      -0.016      -0.006\n",
      "strengthening                       -0.0005      0.000     -2.144      0.034      -0.001   -4.11e-05\n",
      "unexpected                          -0.0027      0.001     -2.585      0.011      -0.005      -0.001\n",
      "==============================================================================\n",
      "Omnibus:                       21.338   Durbin-Watson:                   2.182\n",
      "Prob(Omnibus):                  0.000   Jarque-Bera (JB):               90.712\n",
      "Skew:                           0.142   Prob(JB):                     2.01e-20\n",
      "Kurtosis:                       6.364   Cond. No.                     1.02e+16\n",
      "==============================================================================\n",
      "\n",
      "Notes:\n",
      "[1] Standard Errors assume that the covariance matrix of the errors is correctly specified.\n",
      "[2] The smallest eigenvalue is 2.27e-19. This might indicate that there are\n",
      "strong multicollinearity problems or that the design matrix is singular.\n"
     ]
    }
   ],
   "source": [
    "def perform_reverse_variable_selection(X, y, threshold):\n",
    "    model = sm.OLS(y, sm.add_constant(X)).fit()\n",
    "    \n",
    "    while True:\n",
    "        p_values = model.pvalues[1:]  # Exclude the constant term\n",
    "        \n",
    "        # Find the predictor variable with the highest p-value\n",
    "        max_p_value = p_values.max()\n",
    "        if max_p_value <= threshold:\n",
    "            break\n",
    "        \n",
    "        # Remove the predictor variable with the highest p-value\n",
    "        max_p_var = p_values.idxmax()\n",
    "        X = X.drop(max_p_var, axis=1)\n",
    "        \n",
    "        # Fit the model with the updated set of predictor variables\n",
    "        model = sm.OLS(y, sm.add_constant(X)).fit()\n",
    "    \n",
    "    return model\n",
    "\n",
    "# Perform reverse variable selection with a threshold of 0.05\n",
    "threshold = 0.05\n",
    "model_reverse_selection = perform_reverse_variable_selection(train[predictor_variables], train['Difference'], threshold)\n",
    "\n",
    "# Print the summary of the linear regression results after variable selection\n",
    "print(model_reverse_selection.summary())"
   ]
  },
  {
   "cell_type": "code",
   "execution_count": 15,
   "id": "13865069",
   "metadata": {},
   "outputs": [
    {
     "name": "stdout",
     "output_type": "stream",
     "text": [
      "Mean Squared Error (MSE): 0.0082413998076717\n",
      "Root Mean Squared Error (RMSE): 0.0907821557778383\n",
      "AIC: -350.44386791182853\n",
      "AICc: -265.88475878261613\n"
     ]
    }
   ],
   "source": [
    "# Calculate Mean Squared Error (MSE)\n",
    "mse = model_reverse_selection.mse_resid\n",
    "\n",
    "# Calculate Root Mean Squared Error (RMSE)\n",
    "rmse = np.sqrt(mse)\n",
    "\n",
    "# Print MSE and RMSE\n",
    "print(\"Mean Squared Error (MSE):\", mse)\n",
    "print(\"Root Mean Squared Error (RMSE):\", rmse)\n",
    "print(\"AIC:\", model_reverse_selection.aic)\n",
    "print(\"AICc:\", model_reverse_selection.bic)"
   ]
  },
  {
   "cell_type": "code",
   "execution_count": 16,
   "id": "1259f4f2",
   "metadata": {},
   "outputs": [
    {
     "data": {
      "image/png": "[encoded data removed]",
      "text/plain": [
       "<Figure size 640x480 with 1 Axes>"
      ]
     },
     "metadata": {},
     "output_type": "display_data"
    }
   ],
   "source": [
    "# Get the residuals\n",
    "residuals = model_reverse_selection.resid\n",
    "\n",
    "# Create a DataFrame with 'Date' and residuals\n",
    "residuals_df = pd.DataFrame({'Date': train['Date'], 'Residuals': residuals})\n",
    "\n",
    "# Plot the residuals\n",
    "fig, ax = plt.subplots()\n",
    "ax.plot(residuals_df['Date'], residuals_df['Residuals'], marker='o', linestyle='None')\n",
    "ax.axhline(y=0, color='gray', linestyle='--')\n",
    "ax.set_xlabel('Date')\n",
    "ax.set_ylabel('Residuals')\n",
    "ax.set_title('Residual Plot')\n",
    "plt.show()"
   ]
  },
  {
   "cell_type": "code",
   "execution_count": 17,
   "id": "397b7d50",
   "metadata": {},
   "outputs": [
    {
     "name": "stdout",
     "output_type": "stream",
     "text": [
      "Mean Squared Error (MSE): 0.02434537386673484\n",
      "Root Mean Squared Error (RMSE): 0.15603004155205125\n",
      "R-squared (R^2): 0.6254307753658961\n",
      "Adjusted R-squared (Adj R^2): 2.723018433316878\n",
      "AICc: -357.96992237860763\n"
     ]
    }
   ],
   "source": [
    "# Prepare the validation data with the selected predictor variables\n",
    "X_valid = sm.add_constant(valid[model_reverse_selection.model.exog_names[1:]])\n",
    "y_valid = valid['Difference']\n",
    "\n",
    "# Generate predictions on the validation set\n",
    "y_pred = model_reverse_selection.predict(X_valid)\n",
    "\n",
    "# Calculate the mean squared error (MSE)\n",
    "mse = mean_squared_error(y_valid, y_pred)\n",
    "\n",
    "# Calculate the root mean squared error (RMSE)\n",
    "rmse = np.sqrt(mse)\n",
    "\n",
    "# Calculate R-squared (R^2)\n",
    "r2 = r2_score(y_valid, y_pred)\n",
    "\n",
    "# Calculate adjusted R-squared (Adj R^2)\n",
    "n_valid = len(y_valid)\n",
    "k_valid = X_valid.shape[1]\n",
    "adjusted_r_squared = 1 - (1 - r2) * (n_valid - 1) / (n_valid - k_valid - 1)\n",
    "\n",
    "# Calculate AICc\n",
    "n = len(y_valid)\n",
    "k = X_valid.shape[1]\n",
    "aic = n * np.log(mse) + 2 * k + (2 * k * (k + 1)) / (n - k - 1)\n",
    "\n",
    "# Print the accuracy metrics\n",
    "print(\"Mean Squared Error (MSE):\", mse)\n",
    "print(\"Root Mean Squared Error (RMSE):\", rmse)\n",
    "print(\"R-squared (R^2):\", r2)\n",
    "print(\"Adjusted R-squared (Adj R^2):\", adjusted_r_squared)\n",
    "print(\"AICc:\", aic)"
   ]
  },
  {
   "cell_type": "markdown",
   "id": "cb44db04",
   "metadata": {},
   "source": [
    "###Reverse variable selection (AICc) version"
   ]
  },
  {
   "cell_type": "code",
   "execution_count": 18,
   "id": "8a3df59c",
   "metadata": {
    "scrolled": true
   },
   "outputs": [
    {
     "name": "stdout",
     "output_type": "stream",
     "text": [
      "                            OLS Regression Results                            \n",
      "==============================================================================\n",
      "Dep. Variable:             Difference   R-squared:                       0.831\n",
      "Model:                            OLS   Adj. R-squared:                  0.804\n",
      "Method:                 Least Squares   F-statistic:                     31.07\n",
      "Date:                Fri, 21 Jul 2023   Prob (F-statistic):           2.32e-50\n",
      "Time:                        16:07:17   Log-Likelihood:                 205.72\n",
      "No. Observations:                 191   AIC:                            -357.4\n",
      "Df Residuals:                     164   BIC:                            -269.6\n",
      "Df Model:                          26                                         \n",
      "Covariance Type:            nonrobust                                         \n",
      "====================================================================================================\n",
      "                                       coef    std err          t      P>|t|      [0.025      0.975]\n",
      "----------------------------------------------------------------------------------------------------\n",
      "const                                0.3959      0.132      2.997      0.003       0.135       0.657\n",
      "Level                                0.1906      0.053      3.574      0.000       0.085       0.296\n",
      "Retail Sales                     -6.221e-06   3.16e-06     -1.969      0.051   -1.25e-05    1.81e-08\n",
      "Short-Term Treasury Bond Rate       -0.1963      0.057     -3.457      0.001      -0.308      -0.084\n",
      "LEI                                 -1.6860      0.687     -2.454      0.015      -3.042      -0.330\n",
      "Average Hourly Earnings             -0.0591      0.018     -3.328      0.001      -0.094      -0.024\n",
      "Short-Term Treasury Diff             0.5835      0.040     14.674      0.000       0.505       0.662\n",
      "LEI_RollingMean                      1.0850      0.683      1.589      0.114      -0.263       2.433\n",
      "CEI_RollingMean                      0.0367      0.017      2.211      0.028       0.004       0.070\n",
      "Retail Sales_RollingMean          1.013e-05   3.26e-06      3.104      0.002    3.69e-06    1.66e-05\n",
      "Durable Goods Orders_RollingMean  -3.08e-06   8.25e-07     -3.733      0.000   -4.71e-06   -1.45e-06\n",
      "anticipating                         0.0056      0.001      4.447      0.000       0.003       0.008\n",
      "appearing                           -0.0196      0.007     -2.697      0.008      -0.034      -0.005\n",
      "assumption                          -0.0069      0.002     -3.491      0.001      -0.011      -0.003\n",
      "attain                               0.4456      0.092      4.866      0.000       0.265       0.626\n",
      "bolstered                           -0.0042      0.002     -2.333      0.021      -0.008      -0.001\n",
      "bolstering                          -0.0066      0.002     -2.682      0.008      -0.012      -0.002\n",
      "could                                0.0004      0.000      3.609      0.000       0.000       0.001\n",
      "depend                              -0.0018      0.001     -2.528      0.012      -0.003      -0.000\n",
      "easier                               0.0042      0.002      2.134      0.034       0.000       0.008\n",
      "encouragement                       -0.1730      0.039     -4.484      0.000      -0.249      -0.097\n",
      "might                               -0.0006      0.000     -4.329      0.000      -0.001      -0.000\n",
      "nearly                              -0.0029      0.001     -2.553      0.012      -0.005      -0.001\n",
      "prosperity                          -0.0113      0.003     -3.475      0.001      -0.018      -0.005\n",
      "regain                              -0.0101      0.002     -4.175      0.000      -0.015      -0.005\n",
      "strengthening                       -0.0005      0.000     -2.065      0.041      -0.001   -2.12e-05\n",
      "unexpected                          -0.0028      0.001     -2.778      0.006      -0.005      -0.001\n",
      "==============================================================================\n",
      "Omnibus:                       20.721   Durbin-Watson:                   2.188\n",
      "Prob(Omnibus):                  0.000   Jarque-Bera (JB):               76.438\n",
      "Skew:                           0.230   Prob(JB):                     2.52e-17\n",
      "Kurtosis:                       6.065   Cond. No.                     6.87e+07\n",
      "==============================================================================\n",
      "\n",
      "Notes:\n",
      "[1] Standard Errors assume that the covariance matrix of the errors is correctly specified.\n",
      "[2] The condition number is large, 6.87e+07. This might indicate that there are\n",
      "strong multicollinearity or other numerical problems.\n"
     ]
    }
   ],
   "source": [
    "def perform_reverse_variable_selection_aicc(X, y):\n",
    "    model = sm.OLS(y, sm.add_constant(X)).fit()\n",
    "    n = len(y)\n",
    "    k = X.shape[1] + 1  # Number of predictor variables + constant term\n",
    "    aicc = model.aic + (2 * k * (k + 1)) / (n - k - 1)\n",
    "    \n",
    "    while True:\n",
    "        aicc_values = []\n",
    "        p_values = model.pvalues[1:]  # Exclude the constant term\n",
    "        \n",
    "        for var in X.columns:\n",
    "            X_temp = X.drop(var, axis=1)\n",
    "            model_temp = sm.OLS(y, sm.add_constant(X_temp)).fit()\n",
    "            n_temp = len(y)\n",
    "            k_temp = X_temp.shape[1] + 1\n",
    "            aicc_temp = model_temp.aic + (2 * k_temp * (k_temp + 1)) / (n_temp - k_temp - 1)\n",
    "            aicc_values.append(aicc_temp)\n",
    "        \n",
    "        min_aicc = np.min(aicc_values)\n",
    "        if min_aicc < aicc:\n",
    "            min_var_idx = np.argmin(aicc_values)\n",
    "            X = X.drop(X.columns[min_var_idx], axis=1)\n",
    "            aicc = min_aicc\n",
    "            model = sm.OLS(y, sm.add_constant(X)).fit()\n",
    "        else:\n",
    "            break\n",
    "    \n",
    "    return model\n",
    "\n",
    "# Perform reverse variable selection based on AICc\n",
    "model_reverse_selection_aicc = perform_reverse_variable_selection_aicc(train[predictor_variables], train['Difference'])\n",
    "\n",
    "# Print the summary of the linear regression results after variable selection\n",
    "print(model_reverse_selection_aicc.summary())"
   ]
  },
  {
   "cell_type": "code",
   "execution_count": 19,
   "id": "8c11639b",
   "metadata": {},
   "outputs": [
    {
     "name": "stdout",
     "output_type": "stream",
     "text": [
      "Mean Squared Error (MSE): 0.007910312346779627\n",
      "Root Mean Squared Error (RMSE): 0.08893993673698912\n",
      "AIC: -350.44386791182853\n",
      "AICc: -265.88475878261613\n"
     ]
    }
   ],
   "source": [
    "# Calculate Mean Squared Error (MSE)\n",
    "mse = model_reverse_selection_aicc.mse_resid\n",
    "\n",
    "# Calculate Root Mean Squared Error (RMSE)\n",
    "rmse = np.sqrt(mse)\n",
    "\n",
    "# Print MSE and RMSE\n",
    "print(\"Mean Squared Error (MSE):\", mse)\n",
    "print(\"Root Mean Squared Error (RMSE):\", rmse)\n",
    "print(\"AIC:\", model_reverse_selection.aic)\n",
    "print(\"AICc:\", model_reverse_selection.bic)"
   ]
  },
  {
   "cell_type": "code",
   "execution_count": 20,
   "id": "d05cf578",
   "metadata": {},
   "outputs": [
    {
     "data": {
      "image/png": "[encoded data removed]",
      "text/plain": [
       "<Figure size 640x480 with 1 Axes>"
      ]
     },
     "metadata": {},
     "output_type": "display_data"
    }
   ],
   "source": [
    "# Get the residuals\n",
    "residuals = model_reverse_selection_aicc.resid\n",
    "\n",
    "# Create a DataFrame with 'Date' and residuals\n",
    "residuals_df = pd.DataFrame({'Date': train['Date'], 'Residuals': residuals})\n",
    "\n",
    "# Plot the residuals\n",
    "fig, ax = plt.subplots()\n",
    "ax.plot(residuals_df['Date'], residuals_df['Residuals'], marker='o', linestyle='None')\n",
    "ax.axhline(y=0, color='gray', linestyle='--')\n",
    "ax.set_xlabel('Date')\n",
    "ax.set_ylabel('Residuals')\n",
    "ax.set_title('Residual Plot')\n",
    "plt.show()"
   ]
  },
  {
   "cell_type": "code",
   "execution_count": 21,
   "id": "388c8b85",
   "metadata": {},
   "outputs": [
    {
     "name": "stdout",
     "output_type": "stream",
     "text": [
      "Number of observations (n): 24\n",
      "Number of predictors (k): 26\n"
     ]
    }
   ],
   "source": [
    "# Calculate the number of predictors (k)\n",
    "k = model_reverse_selection_aicc.params.shape[0] - 1\n",
    "n = len(y_pred)\n",
    "\n",
    "# Print the values\n",
    "print(\"Number of observations (n):\", n)\n",
    "print(\"Number of predictors (k):\", k)"
   ]
  },
  {
   "cell_type": "code",
   "execution_count": 22,
   "id": "b3a808fe",
   "metadata": {},
   "outputs": [
    {
     "name": "stdout",
     "output_type": "stream",
     "text": [
      "Mean Squared Error (MSE): 0.03135641885101207\n",
      "Root Mean Squared Error (RMSE): 0.1770774374419623\n",
      "R-squared (R^2): 0.5175613420184855\n",
      "Adjusted R-squared (Adj R^2): 4.698696377858278\n",
      "AICc: -499.09607083574156\n"
     ]
    }
   ],
   "source": [
    "# Prepare the validation data with the selected predictor variables\n",
    "X_valid = sm.add_constant(valid[model_reverse_selection_aicc.model.exog_names[1:]])\n",
    "y_valid = valid['Difference']\n",
    "\n",
    "# Generate predictions on the validation set\n",
    "y_pred = model_reverse_selection_aicc.predict(X_valid)\n",
    "\n",
    "# Calculate the mean squared error (MSE)\n",
    "mse = mean_squared_error(y_valid, y_pred)\n",
    "\n",
    "# Calculate the root mean squared error (RMSE)\n",
    "rmse = np.sqrt(mse)\n",
    "\n",
    "# Calculate R-squared (R^2)\n",
    "r2 = r2_score(y_valid, y_pred)\n",
    "\n",
    "# Calculate adjusted R-squared (Adj R^2)\n",
    "adj_r2 = 1 - (1 - r2) * ((n - 1)/(n-k-1))\n",
    "\n",
    "# Calculate AICc\n",
    "aic = n * np.log(mse) + 2 * k + (2 * k * (k + 1)) / (len(y_pred) - k - 1)\n",
    "\n",
    "# Print the accuracy metrics\n",
    "print(\"Mean Squared Error (MSE):\", mse)\n",
    "print(\"Root Mean Squared Error (RMSE):\", rmse)\n",
    "print(\"R-squared (R^2):\", r2)\n",
    "print(\"Adjusted R-squared (Adj R^2):\", adj_r2)\n",
    "print(\"AICc:\", aic)"
   ]
  },
  {
   "cell_type": "markdown",
   "id": "0e073f67",
   "metadata": {},
   "source": [
    "###Ridge regression"
   ]
  },
  {
   "cell_type": "code",
   "execution_count": 23,
   "id": "04d257f1",
   "metadata": {},
   "outputs": [
    {
     "name": "stdout",
     "output_type": "stream",
     "text": [
      "Test Mean Squared Error (MSE): 0.17759060610759414\n",
      "Test Root Mean Squared Error (RMSE): 0.42141500460661596\n",
      "Test R-squared (R^2): -1.1338657443123696\n",
      "AICc: -104.39750315959014\n"
     ]
    }
   ],
   "source": [
    "X_train = train.drop(['Difference', 'Date'], axis=1)\n",
    "y_train = train['Difference']\n",
    "\n",
    "X_test = test.drop(['Difference', 'Date'], axis=1)\n",
    "y_test = test['Difference']\n",
    "\n",
    "scaler = StandardScaler()\n",
    "X_train_scaled = scaler.fit_transform(X_train)\n",
    "X_test_scaled = scaler.transform(X_test)\n",
    "\n",
    "# Perform RidgeCV\n",
    "ridge = RidgeCV(cv=5)  # Set the number of cross-validation folds (e.g., 5)\n",
    "ridge.fit(X_train_scaled, y_train)\n",
    "\n",
    "# Get the best alpha chosen by RidgeCV\n",
    "best_alpha = ridge.alpha_\n",
    "\n",
    "# Fit the model with the best alpha to obtain the coefficients\n",
    "ridge_best = Ridge(alpha=best_alpha)\n",
    "ridge_best.fit(X_train_scaled, y_train)\n",
    "\n",
    "# Perform prediction on the scaled test dataset\n",
    "y_pred = ridge_best.predict(X_test_scaled)\n",
    "\n",
    "# Calculate R-squared for test data\n",
    "r2 = r2_score(y_test, y_pred)\n",
    "\n",
    "# Calculate the number of model parameters\n",
    "k = X_test.shape[1] + 1  # Number of predictor variables + intercept\n",
    "\n",
    "# Calculate the number of data points\n",
    "n = len(y_test)\n",
    "\n",
    "# Calculate the mean squared error\n",
    "mse = mean_squared_error(y_test, y_pred)\n",
    "\n",
    "# Calculate the AICc\n",
    "aic = n * np.log(mse) + 2 * k + (2 * k * (k + 1)) / (n - k - 1)\n",
    "\n",
    "print(\"Test Mean Squared Error (MSE):\", mse)\n",
    "print(\"Test Root Mean Squared Error (RMSE):\", np.sqrt(mse))\n",
    "print(\"Test R-squared (R^2):\", r2)\n",
    "print(\"AICc:\", aic)"
   ]
  },
  {
   "cell_type": "code",
   "execution_count": 24,
   "id": "b3e58f35",
   "metadata": {},
   "outputs": [
    {
     "data": {
      "text/plain": [
       "10.0"
      ]
     },
     "execution_count": 24,
     "metadata": {},
     "output_type": "execute_result"
    }
   ],
   "source": [
    "ridge.alpha_"
   ]
  },
  {
   "cell_type": "code",
   "execution_count": 25,
   "id": "ddc93979",
   "metadata": {},
   "outputs": [
    {
     "name": "stdout",
     "output_type": "stream",
     "text": [
      "const: -0.015169653112128293\n",
      "CPI: -0.015267404560274622\n",
      "Durable Goods Orders_RollingMean: 0.005979707991417003\n",
      "Durable Goods Orders: 0.002824249725991123\n",
      "Average Hourly Earnings: -0.030940478920694476\n",
      "Retail Sales: 0.01676940071975081\n",
      "Retail Sales_RollingMean: -0.012085798499806571\n",
      "Unemployment Rate: -6.1220689248001155e-06\n",
      "Long-Term Treasury Bond Rate: -0.01264049134924517\n",
      "Standardized Sentiment Score: 0.0024195806302973054\n",
      "Level: -0.02845613540549744\n",
      "Short-Term Treasury Bond Rate: 0.0013670279651327318\n",
      "risk: 0.0017190585773410386\n",
      "Negative Frequency: -0.010323027123417065\n",
      "suggested: 0.0035944720342686886\n",
      "appeared: -0.0019397475713914616\n"
     ]
    }
   ],
   "source": [
    "ridge = RidgeCV(cv=5)  # Set the number of cross-validation folds (e.g., 5)\n",
    "ridge.fit(X_train_scaled, y_train)\n",
    "\n",
    "# Get the best alpha chosen by RidgeCV\n",
    "best_alpha = ridge.alpha_\n",
    "\n",
    "# Fit the model with the best alpha to obtain the coefficients\n",
    "ridge_best = Ridge(alpha=best_alpha)\n",
    "ridge_best.fit(X_train_scaled, y_train)\n",
    "\n",
    "# Get the coefficients\n",
    "coefficients = ridge_best.coef_\n",
    "\n",
    "# Print the coefficients\n",
    "for feature, coef in zip(X.columns, coefficients):\n",
    "    print(f\"{feature}: {coef}\")"
   ]
  },
  {
   "cell_type": "markdown",
   "id": "eb1c6308",
   "metadata": {},
   "source": [
    "###Validation Test"
   ]
  },
  {
   "cell_type": "code",
   "execution_count": 26,
   "id": "15bd6e55",
   "metadata": {
    "scrolled": true
   },
   "outputs": [
    {
     "ename": "NameError",
     "evalue": "name 'X_valid_scaled' is not defined",
     "output_type": "error",
     "traceback": [
      "\u001b[1;31m---------------------------------------------------------------------------\u001b[0m",
      "\u001b[1;31mNameError\u001b[0m                                 Traceback (most recent call last)",
      "Cell \u001b[1;32mIn[26], line 2\u001b[0m\n\u001b[0;32m      1\u001b[0m \u001b[38;5;66;03m# Make predictions on the validation set\u001b[39;00m\n\u001b[1;32m----> 2\u001b[0m y_pred \u001b[38;5;241m=\u001b[39m ridge_best\u001b[38;5;241m.\u001b[39mpredict(\u001b[43mX_valid_scaled\u001b[49m)\n\u001b[0;32m      4\u001b[0m \u001b[38;5;66;03m# Calculate the Mean Squared Error (MSE)\u001b[39;00m\n\u001b[0;32m      5\u001b[0m mse \u001b[38;5;241m=\u001b[39m mean_squared_error(y_valid, y_pred)\n",
      "\u001b[1;31mNameError\u001b[0m: name 'X_valid_scaled' is not defined"
     ]
    }
   ],
   "source": [
    "# Make predictions on the validation set\n",
    "y_pred = ridge_best.predict(X_valid_scaled)\n",
    "\n",
    "# Calculate the Mean Squared Error (MSE)\n",
    "mse = mean_squared_error(y_valid, y_pred)\n",
    "\n",
    "# Calculate the Root Mean Squared Error (RMSE)\n",
    "rmse = np.sqrt(mse)\n",
    "\n",
    "# Calculate the R-squared (R^2) score\n",
    "r2 = r2_score(y_valid, y_pred)\n",
    "\n",
    "# Calculate the adjusted R-squared score\n",
    "n = len(y_valid)  # number of samples in the validation set\n",
    "p = 16\n",
    "adj_r2 = 1 - (1 - r2) * (n - 1) / (n - p - 1)\n",
    "\n",
    "# Calculate the AICc (Akaike Information Criterion corrected for small sample size)\n",
    "aic = n * np.log(mse) + 2 * p + 2 * p * (p + 1) / (n - p - 1)\n",
    "\n",
    "# Print the results\n",
    "print(f\"MSE: {mse}\")\n",
    "print(f\"RMSE: {rmse}\")\n",
    "print(f\"R^2: {r2}\")\n",
    "print(f\"Adjusted R^2: {adj_r2}\")\n",
    "print(f\"AICc: {aic}\")"
   ]
  }
 ],
 "metadata": {
  "kernelspec": {
   "display_name": "Python 3 (ipykernel)",
   "language": "python",
   "name": "python3"
  },
  "language_info": {
   "codemirror_mode": {
    "name": "ipython",
    "version": 3
   },
   "file_extension": ".py",
   "mimetype": "text/x-python",
   "name": "python",
   "nbconvert_exporter": "python",
   "pygments_lexer": "ipython3",
   "version": "3.10.9"
  }
 },
 "nbformat": 4,
 "nbformat_minor": 5
}
