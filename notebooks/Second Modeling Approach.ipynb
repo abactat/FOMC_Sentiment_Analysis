{
 "cells": [
  {
   "cell_type": "code",
   "execution_count": 16,
   "id": "f888e8aa",
   "metadata": {},
   "outputs": [],
   "source": [
    "import pandas as pd\n",
    "import numpy as np\n",
    "import xgboost as xgb\n",
    "import seaborn as sns\n",
    "import matplotlib.pyplot as plt\n",
    "from sklearn.preprocessing import LabelEncoder\n",
    "from sklearn.linear_model import LogisticRegression\n",
    "from sklearn.preprocessing import StandardScaler\n",
    "from sklearn.metrics import accuracy_score\n",
    "from sklearn.metrics import log_loss\n",
    "from sklearn.preprocessing import OrdinalEncoder"
   ]
  },
  {
   "cell_type": "code",
   "execution_count": 2,
   "id": "18db1b33",
   "metadata": {},
   "outputs": [],
   "source": [
    "train = pd.read_csv(r'C:\\Users\\abact\\BC-Project\\data\\train_data.csv')\n",
    "valid = pd.read_csv(r'C:\\Users\\abact\\BC-Project\\data\\val_data.csv')\n",
    "test = pd.read_csv(r'C:\\Users\\abact\\BC-Project\\data\\test_data.csv')"
   ]
  },
  {
   "cell_type": "code",
   "execution_count": 3,
   "id": "46b57252",
   "metadata": {},
   "outputs": [],
   "source": [
    "# Convert variables to numeric in the train dataset\n",
    "variables_to_convert = train.columns.drop('Date')\n",
    "train[variables_to_convert] = train[variables_to_convert].apply(pd.to_numeric, errors='coerce')\n",
    "\n",
    "# Convert variables to numeric in the valid dataset\n",
    "valid[variables_to_convert] = valid[variables_to_convert].apply(pd.to_numeric, errors='coerce')"
   ]
  },
  {
   "cell_type": "code",
   "execution_count": 4,
   "id": "c587377e",
   "metadata": {},
   "outputs": [],
   "source": [
    "train['Direction'] = np.select([\n",
    "    train['Increase'] > 0,\n",
    "    train['Decrease'] > 0,\n",
    "    train['Difference'] == 0\n",
    "], [\n",
    "    1,  # Increase\n",
    "    -1,  # Decrease\n",
    "    0   # Hold\n",
    "], default=-1)\n",
    "\n",
    "valid['Direction'] = np.select([\n",
    "    valid['Increase'] > 0,\n",
    "    valid['Decrease'] > 0,\n",
    "    valid['Difference'] == 0\n",
    "], [\n",
    "    1,  # Increase\n",
    "    -1,  # Decrease\n",
    "    0   # Hold\n",
    "], default=-1)"
   ]
  },
  {
   "cell_type": "code",
   "execution_count": 5,
   "id": "6afd0fed",
   "metadata": {},
   "outputs": [
    {
     "name": "stdout",
     "output_type": "stream",
     "text": [
      "Accuracy: 0.9319371727748691\n"
     ]
    }
   ],
   "source": [
    "# Select the independent variables (excluding specified variables)\n",
    "exclude_vars = ['Increase', 'Decrease', 'Date', 'Difference']\n",
    "X_train = train.drop(['Direction'] + exclude_vars, axis=1)\n",
    "\n",
    "# Separate the target variable\n",
    "y_train = train['Direction']\n",
    "\n",
    "# Scale the independent variables\n",
    "scaler = StandardScaler()\n",
    "X_train_scaled = scaler.fit_transform(X_train)\n",
    "\n",
    "# Fit a multinomial logistic regression model\n",
    "logit_model = LogisticRegression(multi_class='multinomial', solver='newton-cg', max_iter=1000)\n",
    "logit_model.fit(X_train_scaled, y_train)\n",
    "\n",
    "# Evaluate the model on the training data\n",
    "accuracy = logit_model.score(X_train_scaled, y_train)\n",
    "print(\"Accuracy:\", accuracy)"
   ]
  },
  {
   "cell_type": "code",
   "execution_count": 6,
   "id": "308155b3",
   "metadata": {},
   "outputs": [
    {
     "name": "stdout",
     "output_type": "stream",
     "text": [
      "Accuracy: 0.5\n",
      "Cross-entropy loss: 1.1448414966820637\n",
      "AICc: -118.50168761538691\n"
     ]
    }
   ],
   "source": [
    "# Preprocess the validation set\n",
    "X_valid = valid.drop(['Direction'] + exclude_vars, axis=1)\n",
    "y_valid = valid['Direction']\n",
    "\n",
    "# Scale the independent variables of the validation set using the same scaler object\n",
    "X_valid_scaled = scaler.transform(X_valid)\n",
    "\n",
    "# Predict class labels for the validation set\n",
    "y_valid_pred = logit_model.predict(X_valid_scaled)\n",
    "\n",
    "# Calculate accuracy\n",
    "accuracy = logit_model.score(X_valid_scaled, y_valid)\n",
    "\n",
    "# Calculate cross-entropy loss (log loss)\n",
    "loss = log_loss(y_valid, logit_model.predict_proba(X_valid_scaled))\n",
    "\n",
    "# Calculate AICc\n",
    "nll = -log_loss(y_valid, logit_model.predict_proba(X_valid_scaled), normalize=False)\n",
    "n = len(X_valid)\n",
    "p = logit_model.coef_.shape[1]\n",
    "aic = 2 * p + 2 * nll + (2 * p * (p + 1)) / (n - p - 1)\n",
    "\n",
    "# Print evaluation metrics\n",
    "print(\"Accuracy:\", accuracy)\n",
    "print(\"Cross-entropy loss:\", loss)\n",
    "print(\"AICc:\", aic)"
   ]
  },
  {
   "cell_type": "code",
   "execution_count": 7,
   "id": "bc8fef36",
   "metadata": {},
   "outputs": [],
   "source": [
    "# Create logit_increase subset\n",
    "train_logit_increase = train[train['Increase'] > 0].copy()\n",
    "train_logit_increase = train_logit_increase.drop(['Decrease', 'Date', 'Difference', 'Direction'], axis=1)\n",
    "\n",
    "# Create logit_decrease subset\n",
    "train_logit_decrease = train[train['Decrease'] > 0].copy()\n",
    "train_logit_decrease = train_logit_decrease.drop(['Increase', 'Date', 'Difference', 'Direction'], axis=1)\n",
    "\n",
    "# Convert 'Increase' and 'Decrease' variables to categorical\n",
    "train_logit_increase['Increase'] = train_logit_increase['Increase'].astype('category')\n",
    "train_logit_decrease['Decrease'] = train_logit_decrease['Decrease'].astype('category')\n",
    "\n",
    "# Create logit_increase subset\n",
    "valid_logit_increase = valid[valid['Increase'] > 0].copy()\n",
    "valid_logit_increase = valid_logit_increase.drop(['Decrease', 'Date', 'Difference', 'Direction'], axis=1)\n",
    "\n",
    "# Create logit_decrease subset\n",
    "valid_logit_decrease = valid[valid['Decrease'] > 0].copy()\n",
    "valid_logit_decrease = valid_logit_decrease.drop(['Increase', 'Date', 'Difference', 'Direction'], axis=1)\n",
    "\n",
    "# Convert 'Increase' and 'Decrease' variables to categorical\n",
    "valid_logit_increase['Increase'] = valid_logit_increase['Increase'].astype('category')\n",
    "valid_logit_decrease['Decrease'] = valid_logit_decrease['Decrease'].astype('category')"
   ]
  },
  {
   "cell_type": "code",
   "execution_count": 8,
   "id": "d16f144a",
   "metadata": {},
   "outputs": [
    {
     "name": "stdout",
     "output_type": "stream",
     "text": [
      "[0.25, 0.50, 0.75]\n",
      "Categories (3, float64): [0.25, 0.50, 0.75]\n",
      "[0.50, 0.25, 0.75]\n",
      "Categories (3, float64): [0.25, 0.50, 0.75]\n"
     ]
    },
    {
     "name": "stderr",
     "output_type": "stream",
     "text": [
      "C:\\Users\\abact\\AppData\\Local\\Temp\\ipykernel_22428\\3351578375.py:2: FutureWarning: Index.ravel returning ndarray is deprecated; in a future version this will return a view on self.\n",
      "  print(unique_values)\n",
      "C:\\Users\\abact\\AppData\\Local\\Temp\\ipykernel_22428\\3351578375.py:4: FutureWarning: Index.ravel returning ndarray is deprecated; in a future version this will return a view on self.\n",
      "  print(unique_values)\n"
     ]
    }
   ],
   "source": [
    "unique_values = train_logit_increase['Increase'].unique()\n",
    "print(unique_values)\n",
    "unique_values = train_logit_decrease['Decrease'].unique()\n",
    "print(unique_values)"
   ]
  },
  {
   "cell_type": "code",
   "execution_count": 9,
   "id": "bd079c2a",
   "metadata": {},
   "outputs": [
    {
     "name": "stdout",
     "output_type": "stream",
     "text": [
      "Accuracy: 1.0\n"
     ]
    }
   ],
   "source": [
    "# Select the independent variables (excluding specified variables)\n",
    "X_train = train_logit_increase.drop(['Increase'], axis=1)\n",
    "\n",
    "# Encode the target variable as ordinal\n",
    "ordinal_encoder = OrdinalEncoder(categories=[[0.25, 0.50, 0.75, 1.00]], handle_unknown='use_encoded_value', unknown_value=-1)\n",
    "y_train_encoded = ordinal_encoder.fit_transform(train_logit_increase[['Increase']])\n",
    "\n",
    "# Reshape the target variable to a 1d array\n",
    "y_train_encoded = y_train_encoded.ravel()\n",
    "\n",
    "# Scale the independent variables\n",
    "scaler = StandardScaler()\n",
    "X_train_scaled = scaler.fit_transform(X_train)\n",
    "\n",
    "# Fit a multinomial logistic regression model\n",
    "logit_increase = LogisticRegression(multi_class='multinomial', solver='lbfgs', max_iter=1000)\n",
    "logit_increase.fit(X_train_scaled, y_train_encoded)\n",
    "\n",
    "# Evaluate the model on the training data\n",
    "accuracy = logit_increase.score(X_train_scaled, y_train_encoded)\n",
    "print(\"Accuracy:\", accuracy)"
   ]
  },
  {
   "cell_type": "code",
   "execution_count": 10,
   "id": "f45bd90f",
   "metadata": {},
   "outputs": [
    {
     "name": "stdout",
     "output_type": "stream",
     "text": [
      "Accuracy: 0.9583333333333334\n"
     ]
    }
   ],
   "source": [
    "# Select the independent variables (excluding specified variables)\n",
    "X_train = train_logit_decrease.drop(['Decrease'], axis=1)\n",
    "\n",
    "# Encode the target variable as ordinal\n",
    "ordinal_encoder = OrdinalEncoder(categories=[[0.25, 0.50, 0.75, 1.00]], handle_unknown='use_encoded_value', unknown_value=-1)\n",
    "y_train_encoded = ordinal_encoder.fit_transform(train_logit_decrease[['Decrease']])\n",
    "\n",
    "# Reshape the target variable to a 1d array\n",
    "y_train_encoded = y_train_encoded.ravel()\n",
    "\n",
    "# Scale the independent variables\n",
    "scaler = StandardScaler()\n",
    "X_train_scaled = scaler.fit_transform(X_train)\n",
    "\n",
    "# Fit a multinomial logistic regression model\n",
    "logit_decrease = LogisticRegression(multi_class='multinomial', solver='lbfgs', max_iter=1000)\n",
    "logit_decrease.fit(X_train_scaled, y_train_encoded)\n",
    "\n",
    "# Evaluate the model on the training data\n",
    "accuracy = logit_decrease.score(X_train_scaled, y_train_encoded)\n",
    "print(\"Accuracy:\", accuracy)"
   ]
  },
  {
   "cell_type": "code",
   "execution_count": 11,
   "id": "b37f0e79",
   "metadata": {},
   "outputs": [
    {
     "name": "stdout",
     "output_type": "stream",
     "text": [
      "Validation Accuracy: 1.0\n"
     ]
    }
   ],
   "source": [
    "# Encode the target variable of the validation set as ordinal using the fitted ordinal_encoder from train_logit_increase\n",
    "ordinal_encoder = OrdinalEncoder(categories=[[0.25, 0.50, 0.75, 1.00]], handle_unknown='use_encoded_value', unknown_value=-1)\n",
    "y_valid_encoded = ordinal_encoder.fit_transform(valid_logit_increase[['Increase']])\n",
    "\n",
    "# Scale the independent variables of the validation set using the same scaler object\n",
    "X_valid_scaled = scaler.transform(valid_logit_increase[X_train.columns])\n",
    "\n",
    "# Predict class labels for the validation set using the trained logit_increase model\n",
    "y_valid_pred = logit_increase.predict(X_valid_scaled)\n",
    "\n",
    "# Calculate accuracy\n",
    "accuracy_valid = accuracy_score(y_valid_encoded, y_valid_pred)\n",
    "print(\"Validation Accuracy:\", accuracy_valid)"
   ]
  },
  {
   "cell_type": "code",
   "execution_count": 12,
   "id": "86e7f1a4",
   "metadata": {},
   "outputs": [
    {
     "name": "stdout",
     "output_type": "stream",
     "text": [
      "Validation Accuracy: 0.0\n"
     ]
    }
   ],
   "source": [
    "# Encode the target variable of the validation set as ordinal using the fitted ordinal_encoder from train_logit_decrease\n",
    "ordinal_encoder = OrdinalEncoder(categories=[[0.25, 0.50, 0.75, 1.00]], handle_unknown='use_encoded_value', unknown_value=-1)\n",
    "y_valid_encoded = ordinal_encoder.fit_transform(valid_logit_decrease[['Decrease']])\n",
    "\n",
    "# Scale the independent variables of the validation set using the same scaler object\n",
    "X_valid_scaled = scaler.transform(valid_logit_decrease[X_train.columns])\n",
    "\n",
    "# Predict class labels for the validation set using the trained logit_decrease model\n",
    "y_valid_pred = logit_decrease.predict(X_valid_scaled)\n",
    "\n",
    "# Calculate accuracy\n",
    "accuracy_valid = accuracy_score(y_valid_encoded, y_valid_pred)\n",
    "print(\"Validation Accuracy:\", accuracy_valid)"
   ]
  }
 ],
 "metadata": {
  "kernelspec": {
   "display_name": "Python 3 (ipykernel)",
   "language": "python",
   "name": "python3"
  },
  "language_info": {
   "codemirror_mode": {
    "name": "ipython",
    "version": 3
   },
   "file_extension": ".py",
   "mimetype": "text/x-python",
   "name": "python",
   "nbconvert_exporter": "python",
   "pygments_lexer": "ipython3",
   "version": "3.10.9"
  }
 },
 "nbformat": 4,
 "nbformat_minor": 5
}
