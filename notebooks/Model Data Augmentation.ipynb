{
 "cells": [
  {
   "cell_type": "code",
   "execution_count": 1,
   "id": "87439644",
   "metadata": {},
   "outputs": [],
   "source": [
    "import pandas as pd\n",
    "import numpy as np\n",
    "import requests\n",
    "from io import StringIO\n",
    "import joblib\n",
    "from sklearn.ensemble import RandomForestClassifier\n",
    "from sklearn.ensemble import RandomForestRegressor"
   ]
  },
  {
   "cell_type": "code",
   "execution_count": 11,
   "id": "02d6f2b7",
   "metadata": {},
   "outputs": [
    {
     "name": "stdout",
     "output_type": "stream",
     "text": [
      "Dataset downloaded and loaded into 'dataset_adjusted' successfully.\n",
      "Dataset downloaded and loaded into 'words' successfully.\n"
     ]
    }
   ],
   "source": [
    "# The URL of the raw dataset on GitHub\n",
    "url = \"https://raw.githubusercontent.com/abactat/BC-Project/main/data/dataset_adjusted.csv?token=GHSAT0AAAAAACC4ZCNLSI7IUHBG7JHPMLT2ZGMCCBQ\"\n",
    "\n",
    "# Send an HTTP GET request to fetch the content of the raw dataset\n",
    "response = requests.get(url)\n",
    "\n",
    "# Check if the request was successful (status code 200 means success)\n",
    "if response.status_code == 200:\n",
    "    # Read the content as a pandas DataFrame and assign it to the 'dataset_adjusted' variable\n",
    "    dataset_adjusted = pd.read_csv(StringIO(response.text))\n",
    "    print(\"Dataset downloaded and loaded into 'dataset_adjusted' successfully.\")\n",
    "else:\n",
    "    print(f\"Failed to download the dataset. Status code: {response.status_code}\")\n",
    "    \n",
    "# The URL of the raw dataset on GitHub\n",
    "url = \"https://raw.githubusercontent.com/abactat/BC-Project/main/data/raw/dataset_words.csv?token=GHSAT0AAAAAACC4ZCNKNKB3MZOF4DY7SDEIZGMC73Q\"\n",
    "\n",
    "# Send an HTTP GET request to fetch the content of the raw dataset\n",
    "response = requests.get(url)\n",
    "\n",
    "# Check if the request was successful (status code 200 means success)\n",
    "if response.status_code == 200:\n",
    "    # Read the content as a pandas DataFrame and assign it to the 'words' variable\n",
    "    words = pd.read_csv(StringIO(response.text))\n",
    "    print(\"Dataset downloaded and loaded into 'words' successfully.\")\n",
    "else:\n",
    "    print(f\"Failed to download the dataset. Status code: {response.status_code}\")"
   ]
  },
  {
   "cell_type": "code",
   "execution_count": 12,
   "id": "c7ad2657",
   "metadata": {},
   "outputs": [],
   "source": [
    "# Concatenate the vectorized DataFrame with the original dataset\n",
    "full_dataset = pd.concat([dataset_adjusted, words], axis=1)"
   ]
  },
  {
   "cell_type": "code",
   "execution_count": 15,
   "id": "f35c1fba",
   "metadata": {},
   "outputs": [
    {
     "name": "stdout",
     "output_type": "stream",
     "text": [
      "           Date        Date\n",
      "0    1993-05-18  1993-05-18\n",
      "1    1993-07-07  1993-07-07\n",
      "2    1993-08-17  1993-08-17\n",
      "3    1993-09-21  1993-09-21\n",
      "4    1993-11-16  1993-11-16\n",
      "..          ...         ...\n",
      "235  2022-11-02  2022-11-02\n",
      "236  2022-12-14  2022-12-14\n",
      "237  2023-02-01  2023-02-01\n",
      "238  2023-03-22  2023-03-22\n",
      "239  2023-05-03  2023-05-03\n",
      "\n",
      "[240 rows x 2 columns]\n"
     ]
    }
   ],
   "source": [
    "if \"Date\" in full_dataset.columns:\n",
    "    date_column = full_dataset[\"Date\"]\n",
    "    print(date_column)\n",
    "else:\n",
    "    print(\"The 'Date' column is not found in the full_dataset.\")"
   ]
  }
 ],
 "metadata": {
  "kernelspec": {
   "display_name": "Python 3 (ipykernel)",
   "language": "python",
   "name": "python3"
  },
  "language_info": {
   "codemirror_mode": {
    "name": "ipython",
    "version": 3
   },
   "file_extension": ".py",
   "mimetype": "text/x-python",
   "name": "python",
   "nbconvert_exporter": "python",
   "pygments_lexer": "ipython3",
   "version": "3.10.9"
  }
 },
 "nbformat": 4,
 "nbformat_minor": 5
}
