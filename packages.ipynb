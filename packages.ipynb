{
 "cells": [
  {
   "cell_type": "code",
   "execution_count": 1,
   "id": "db415e2c",
   "metadata": {},
   "outputs": [
    {
     "ename": "SyntaxError",
     "evalue": "invalid syntax (738731758.py, line 1)",
     "output_type": "error",
     "traceback": [
      "\u001b[1;36m  Cell \u001b[1;32mIn[1], line 1\u001b[1;36m\u001b[0m\n\u001b[1;33m    pip install Fedtools\u001b[0m\n\u001b[1;37m        ^\u001b[0m\n\u001b[1;31mSyntaxError\u001b[0m\u001b[1;31m:\u001b[0m invalid syntax\n"
     ]
    }
   ],
   "source": [
    "packages = [\n",
    "    \"FedTools\",\n",
    "    \"pandas\",\n",
    "    \"numpy\",\n",
    "    \"requests\",\n",
    "    \"joblib\",\n",
    "    \"nltk\",\n",
    "    \"fredapi\",\n",
    "    \"scikit-learn\",\n",
    "    \"statsmodels\",\n",
    "    \"gensim\",\n",
    "    \"matplotlib\",\n",
    "    \"keras\",\n",
    "    \"tensorflow\",\n",
    "    \"scipy\",\n",
    "    \"tabulate\",\n",
    "    \"mord\",\n",
    "    \"xgboost\",\n",
    "    \"tpot\",\n",
    "    \"random\",\n",
    "    \"datetime\",\n",
    "    \"seaborn\"\n",
    "]\n",
    "\n",
    "for package in packages:\n",
    "    !pip install $package"
   ]
  },
  {
   "cell_type": "markdown",
   "id": "fe6d2b37",
   "metadata": {},
   "source": [
    "###Code requirements"
   ]
  },
  {
   "cell_type": "code",
   "execution_count": null,
   "id": "c80853eb",
   "metadata": {},
   "outputs": [],
   "source": [
    "import pandas as pd\n",
    "import numpy as np\n",
    "\n",
    "import requests\n",
    "from io import BytesIO\n",
    "import joblib\n",
    "from io import StringIO\n",
    "\n",
    "import csv"
   ]
  },
  {
   "cell_type": "markdown",
   "id": "2fcf89bf",
   "metadata": {},
   "source": [
    "###Model Dependencies"
   ]
  },
  {
   "cell_type": "code",
   "execution_count": null,
   "id": "eab8bcca",
   "metadata": {},
   "outputs": [],
   "source": [
    "from sklearn.model_selection import GridSearchCV\n",
    "from sklearn.ensemble import RandomForestRegressor\n",
    "\n",
    "from sklearn.metrics import mean_squared_error, r2_score"
   ]
  },
  {
   "cell_type": "markdown",
   "id": "92d991de",
   "metadata": {},
   "source": [
    "###Data Dependencies"
   ]
  },
  {
   "cell_type": "code",
   "execution_count": null,
   "id": "a045c4dc",
   "metadata": {},
   "outputs": [],
   "source": [
    "from FedTools import MonetaryPolicyCommittee\n",
    "from FedTools import BeigeBooks\n",
    "from FedTools import FederalReserveMins\n",
    "\n",
    "from nltk.corpus import stopwords\n",
    "from nltk.stem import WordNetLemmatizer\n",
    "\n",
    "from fredapi import Fred\n",
    "\n",
    "from sklearn.preprocessing import MinMaxScaler"
   ]
  }
 ],
 "metadata": {
  "kernelspec": {
   "display_name": "Python 3 (ipykernel)",
   "language": "python",
   "name": "python3"
  },
  "language_info": {
   "codemirror_mode": {
    "name": "ipython",
    "version": 3
   },
   "file_extension": ".py",
   "mimetype": "text/x-python",
   "name": "python",
   "nbconvert_exporter": "python",
   "pygments_lexer": "ipython3",
   "version": "3.10.9"
  }
 },
 "nbformat": 4,
 "nbformat_minor": 5
}
